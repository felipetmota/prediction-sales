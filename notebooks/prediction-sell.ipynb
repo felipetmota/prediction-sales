{
 "cells": [
  {
   "cell_type": "markdown",
   "id": "591966f3",
   "metadata": {},
   "source": [
    "# Prediction - Store Sales"
   ]
  },
  {
   "cell_type": "markdown",
   "id": "b1d104b1",
   "metadata": {},
   "source": [
    "# 1.0 Overview"
   ]
  },
  {
   "cell_type": "markdown",
   "id": "ff2ca661",
   "metadata": {},
   "source": [
    "### 1.1 Overview\n",
    "\n",
    "Rossmann operates over 3,000 drug stores in 7 European countries. Currently, Rossmann store managers are tasked with predicting their daily sales for up to six weeks in advance. Store sales are influenced by many factors, including promotions, competition, school and state holidays, seasonality, and locality. With thousands of individual managers predicting sales based on their unique circumstances, the accuracy of results can be quite varied.\n",
    "\n",
    "reference: https://www.kaggle.com/competitions/rossmann-store-sales/data"
   ]
  },
  {
   "cell_type": "markdown",
   "id": "fa9bb0cb",
   "metadata": {},
   "source": [
    "# 2.0 Imports"
   ]
  },
  {
   "cell_type": "code",
   "execution_count": 1,
   "id": "a597b022",
   "metadata": {
    "ExecuteTime": {
     "end_time": "2023-03-29T19:35:16.539268Z",
     "start_time": "2023-03-29T19:35:15.460155Z"
    }
   },
   "outputs": [],
   "source": [
    "import pandas as pd"
   ]
  }
 ],
 "metadata": {
  "kernelspec": {
   "display_name": "Python 3 (ipykernel)",
   "language": "python",
   "name": "python3"
  },
  "language_info": {
   "codemirror_mode": {
    "name": "ipython",
    "version": 3
   },
   "file_extension": ".py",
   "mimetype": "text/x-python",
   "name": "python",
   "nbconvert_exporter": "python",
   "pygments_lexer": "ipython3",
   "version": "3.8.8"
  }
 },
 "nbformat": 4,
 "nbformat_minor": 5
}
