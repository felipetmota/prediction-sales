{
 "cells": [
  {
   "cell_type": "markdown",
   "id": "591966f3",
   "metadata": {},
   "source": [
    "# Prediction - Store Sales"
   ]
  },
  {
   "cell_type": "markdown",
   "id": "b1d104b1",
   "metadata": {},
   "source": [
    "# 1.0 Overview"
   ]
  },
  {
   "cell_type": "markdown",
   "id": "ff2ca661",
   "metadata": {},
   "source": [
    "### 1.1 Overview\n",
    "\n",
    "Rossmann operates over 3,000 drug stores in 7 European countries. Currently, Rossmann store managers are tasked with predicting their daily sales for up to six weeks in advance. Store sales are influenced by many factors, including promotions, competition, school and state holidays, seasonality, and locality. With thousands of individual managers predicting sales based on their unique circumstances, the accuracy of results can be quite varied.\n",
    "\n",
    "reference: https://www.kaggle.com/competitions/rossmann-store-sales/data"
   ]
  },
  {
   "cell_type": "markdown",
   "id": "7df0fe36",
   "metadata": {},
   "source": [
    "### 1.1.2 CRISP - DS\n",
    "\n",
    "CRoss-Industry Process - Data Science\n",
    "\n",
    "- Development Cicle Method \n",
    "   - Do the same process many times to improve the prediction in each cicle.\n",
    "   - In each end-to-end cicle have a version with the solution.\n",
    "   - Velocity to delivery values.\n",
    "   - Mapping all possibibles problems.\n",
    "   \n",
    "    "
   ]
  },
  {
   "cell_type": "markdown",
   "id": "ede4bad7",
   "metadata": {},
   "source": [
    "#### 1.1.2.1 CRISP Steps"
   ]
  },
  {
   "cell_type": "markdown",
   "id": "bca46e0e",
   "metadata": {},
   "source": [
    "1. Business questions - Try to solve problems with all areas and people.\n",
    "2. Understand the Business - What's the poeple want? Normally the people give the solution, and we need to discover the \"pain\" of this person/business\n",
    "3. Data Collect - From Databases, API, Files...\n",
    "4. Data Clean - Keep a \"stadard\" data and remove dirty data...\n",
    "5. Data Exploration - What's the variable will impact the model(the result). Find the correlation between the fields.\n",
    "6. Data Modeling - Prepare the data to put into the ML code (train and test, encoding, transform data, answer data...)\n",
    "7. Apply ML \n",
    "8. Algoritimun Accuracy - Calculate the errors using ML's/Statistics (MAP, RME, MAPE, RMSE, ROCK, ACCURACY, TRUE TABLE...)\n",
    "\n",
    "After the step 8º you and the team can see that the accuracy of the FIRST model will impact well the solution (normally not happen after the first cicle), we can put the MODEL in production, if not, start the other CICLE in STEP 2.\n",
    "\n",
    "**IMPORTANT** you not back on the step 1 because the problem will be YOU, and we need to decide and change the steps 2º to 8º."
   ]
  },
  {
   "cell_type": "markdown",
   "id": "3e15c5c6",
   "metadata": {},
   "source": [
    "# 2.0 Typing the CRISP-DS Steps"
   ]
  },
  {
   "cell_type": "markdown",
   "id": "2e79fc95",
   "metadata": {
    "ExecuteTime": {
     "end_time": "2023-03-30T18:23:46.073087Z",
     "start_time": "2023-03-30T18:23:46.061086Z"
    }
   },
   "source": [
    "### 2.1 Business Questions\n",
    "\n",
    "What's the sales value of each store in the next 6 weeks?"
   ]
  },
  {
   "cell_type": "markdown",
   "id": "9b6a67dc",
   "metadata": {
    "ExecuteTime": {
     "end_time": "2023-03-30T18:23:46.073087Z",
     "start_time": "2023-03-30T18:23:46.061086Z"
    }
   },
   "source": [
    "### 2.2 Understand the Business\n",
    "\n",
    "- **What's the motivation to do this?** CFO (Chief Financial Officer) has requested the prediction of sales at the monthly meeting about the stores results.\n",
    "- **What's the main cause of the problem?** Difficult to understand the value of investment to renovate each store.\n",
    "- **Who is the stakeholder of the problem?** Director Finance (CFO) of Rossmann\n",
    "- **What's the solution/product format that will be delivered?**\n",
    "    - Granularity: Prediction sell per day and store on the next 42 days (6 weeks).\n",
    "    - Problem type: Forecast sell .\n",
    "    - Potencials Methods: Temporal series, regression with modifications.\n",
    "    - Product/solution format: Check on the phone the total salles in each store on the final of the 6 weeks"
   ]
  },
  {
   "cell_type": "markdown",
   "id": "fa9bb0cb",
   "metadata": {},
   "source": [
    "# 3.0 Imports"
   ]
  },
  {
   "cell_type": "code",
   "execution_count": 1,
   "id": "a597b022",
   "metadata": {
    "ExecuteTime": {
     "end_time": "2023-03-29T19:35:16.539268Z",
     "start_time": "2023-03-29T19:35:15.460155Z"
    }
   },
   "outputs": [],
   "source": [
    "import pandas as pd"
   ]
  }
 ],
 "metadata": {
  "kernelspec": {
   "display_name": "Python 3 (ipykernel)",
   "language": "python",
   "name": "python3"
  },
  "language_info": {
   "codemirror_mode": {
    "name": "ipython",
    "version": 3
   },
   "file_extension": ".py",
   "mimetype": "text/x-python",
   "name": "python",
   "nbconvert_exporter": "python",
   "pygments_lexer": "ipython3",
   "version": "3.8.8"
  },
  "varInspector": {
   "cols": {
    "lenName": 16,
    "lenType": 16,
    "lenVar": 40
   },
   "kernels_config": {
    "python": {
     "delete_cmd_postfix": "",
     "delete_cmd_prefix": "del ",
     "library": "var_list.py",
     "varRefreshCmd": "print(var_dic_list())"
    },
    "r": {
     "delete_cmd_postfix": ") ",
     "delete_cmd_prefix": "rm(",
     "library": "var_list.r",
     "varRefreshCmd": "cat(var_dic_list()) "
    }
   },
   "types_to_exclude": [
    "module",
    "function",
    "builtin_function_or_method",
    "instance",
    "_Feature"
   ],
   "window_display": false
  }
 },
 "nbformat": 4,
 "nbformat_minor": 5
}
