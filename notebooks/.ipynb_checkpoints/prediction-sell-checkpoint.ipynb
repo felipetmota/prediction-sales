{
 "cells": [
  {
   "cell_type": "markdown",
   "id": "591966f3",
   "metadata": {},
   "source": [
    "# Prediction - Store Sales"
   ]
  },
  {
   "cell_type": "markdown",
   "id": "b1d104b1",
   "metadata": {
    "heading_collapsed": true
   },
   "source": [
    "# 1.0 Overview"
   ]
  },
  {
   "cell_type": "markdown",
   "id": "ff2ca661",
   "metadata": {
    "heading_collapsed": true,
    "hidden": true
   },
   "source": [
    "### 1.1 Overview\n",
    "\n",
    "Rossmann operates over 3,000 drug stores in 7 European countries. Currently, Rossmann store managers are tasked with predicting their daily sales for up to six weeks in advance. Store sales are influenced by many factors, including promotions, competition, school and state holidays, seasonality, and locality. With thousands of individual managers predicting sales based on their unique circumstances, the accuracy of results can be quite varied.\n",
    "\n",
    "reference: https://www.kaggle.com/competitions/rossmann-store-sales/data"
   ]
  },
  {
   "cell_type": "markdown",
   "id": "7df0fe36",
   "metadata": {
    "heading_collapsed": true,
    "hidden": true
   },
   "source": [
    "### 1.1.2 CRISP - DS"
   ]
  },
  {
   "cell_type": "markdown",
   "id": "c30a0fe1",
   "metadata": {
    "hidden": true
   },
   "source": [
    "CRoss-Industry Process - Data Science\n",
    "\n",
    "- Development Cicle Method \n",
    "   - Do the same process many times to improve the prediction in each cicle.\n",
    "   - In each end-to-end cicle have a version with the solution.\n",
    "   - Velocity to delivery values.\n",
    "   - Mapping all possibibles problems.\n",
    "   "
   ]
  },
  {
   "cell_type": "markdown",
   "id": "ede4bad7",
   "metadata": {
    "hidden": true
   },
   "source": [
    "#### 1.1.2.1 CRISP Steps"
   ]
  },
  {
   "cell_type": "markdown",
   "id": "bca46e0e",
   "metadata": {
    "hidden": true
   },
   "source": [
    "1. Business questions - Try to solve problems with all areas and people.\n",
    "2. Understand the Business - What's the poeple want? Normally the people give the solution, and we need to discover the \"pain\" of this person/business\n",
    "3. Data Collect - From Databases, API, Files...\n",
    "4. Data Clean - Keep a \"stadard\" data and remove dirty data...\n",
    "5. Data Exploration - What's the variable will impact the model(the result). Find the correlation between the fields.\n",
    "6. Data Modeling - Prepare the data to put into the ML code (train and test, encoding, transform data, answer data...)\n",
    "7. Apply ML \n",
    "8. Algoritimun Accuracy - Calculate the errors using ML's/Statistics (MAP, RME, MAPE, RMSE, ROCK, ACCURACY, TRUE TABLE...)\n",
    "\n",
    "After the step 8º you and the team can see that the accuracy of the FIRST model will impact well the solution (normally not happen after the first cicle), we can put the MODEL in production, if not, start the other CICLE in STEP 2.\n",
    "\n",
    "**IMPORTANT** you not back on the step 1 because the problem will be YOU, and we need to decide and change the steps 2º to 8º."
   ]
  },
  {
   "cell_type": "markdown",
   "id": "3e15c5c6",
   "metadata": {},
   "source": [
    "# 2.0 CRISP-DS Steps"
   ]
  },
  {
   "cell_type": "markdown",
   "id": "2e79fc95",
   "metadata": {
    "ExecuteTime": {
     "end_time": "2023-03-30T18:23:46.073087Z",
     "start_time": "2023-03-30T18:23:46.061086Z"
    }
   },
   "source": [
    "### 2.1 Business Questions\n",
    "\n",
    "What's the sales value of each store in the next 6 weeks?"
   ]
  },
  {
   "cell_type": "markdown",
   "id": "9b6a67dc",
   "metadata": {
    "ExecuteTime": {
     "end_time": "2023-03-30T18:23:46.073087Z",
     "start_time": "2023-03-30T18:23:46.061086Z"
    }
   },
   "source": [
    "### 2.2 Understand the Business\n",
    "\n",
    "- **What's the motivation to do this?** CFO (Chief Financial Officer) has requested the prediction of sales at the monthly meeting about the stores results.\n",
    "- **What's the main cause of the problem?** Difficult to understand the value of investment to renovate each store.\n",
    "- **Who is the stakeholder of the problem?** Director Finance (CFO) of Rossmann\n",
    "- **What's the solution/product format that will be delivered?**\n",
    "    - Granularity: Prediction sell per day and store on the next 42 days (6 weeks).\n",
    "    - Problem type: Forecast sell .\n",
    "    - Potencials Methods: Temporal series, regression with modifications.\n",
    "    - Product/solution format: Check on the phone the total salles in each store on the final of the 6 weeks"
   ]
  },
  {
   "cell_type": "markdown",
   "id": "fa9bb0cb",
   "metadata": {},
   "source": [
    "## 2.3 Data clean"
   ]
  },
  {
   "cell_type": "markdown",
   "id": "7de906ac",
   "metadata": {
    "ExecuteTime": {
     "end_time": "2023-03-29T19:35:16.539268Z",
     "start_time": "2023-03-29T19:35:15.460155Z"
    }
   },
   "source": [
    "- **Why Data Description?**\n",
    "    - **How challenger is the problem im working?**\n",
    "    - **What's the duration of this problem?**\n",
    "        - Years?\n",
    "        - Months?\n",
    "        - Days?\n",
    "    - **What's the quantity of the data?**\n",
    "        - I have the enought resourcing to work?\n",
    "            - I need servers to process the data?\n",
    "            - Clusters?\n",
    "            - Spark?\n",
    "            - Hadoop?\n",
    "    - **What's the variable types (will help to decide the techniques to apply):**\n",
    "        - % Numeric?\n",
    "        - % Categories?\n",
    "        - % Temporal?\n",
    "    - **What's the NA(non-applicable/empty) data?**\n",
    "        - NA's volume\n",
    "        - What's the reazon of this NA's? \n",
    "            - I can do the job?\n",
    "            - How I will reaplace the data?\n",
    "            - I can replace or delete the data?\n",
    "            - **details** sometimes the system isn't recording the data, the input is manually.\n",
    "    - **Data summary:**\n",
    "        - Describe stats.\n",
    "        - Get the limits, minimum, maximun, STD, mean...\n",
    "        \n",
    "    "
   ]
  },
  {
   "cell_type": "markdown",
   "id": "fbe6a8eb",
   "metadata": {},
   "source": [
    "### 2.3.1 IMPORTS"
   ]
  },
  {
   "cell_type": "code",
   "execution_count": 2,
   "id": "ab7a6a37",
   "metadata": {
    "ExecuteTime": {
     "end_time": "2023-03-31T12:57:03.725336Z",
     "start_time": "2023-03-31T12:57:03.497573Z"
    }
   },
   "outputs": [],
   "source": [
    "import pandas as pd"
   ]
  },
  {
   "cell_type": "markdown",
   "id": "823f2568",
   "metadata": {},
   "source": [
    "#### 2.3.1.1 Helper Functions"
   ]
  },
  {
   "cell_type": "code",
   "execution_count": null,
   "id": "534fa5ec",
   "metadata": {},
   "outputs": [],
   "source": []
  },
  {
   "cell_type": "markdown",
   "id": "aeac0be2",
   "metadata": {},
   "source": [
    "#### 2.3.1.1 Loading Data"
   ]
  },
  {
   "cell_type": "code",
   "execution_count": 3,
   "id": "ca19f756",
   "metadata": {
    "ExecuteTime": {
     "end_time": "2023-03-31T12:57:05.959750Z",
     "start_time": "2023-03-31T12:57:05.239748Z"
    }
   },
   "outputs": [],
   "source": [
    "df_sales_raw = pd.read_csv( '../data/train.csv', low_memory=False )\n",
    "df_store_raw = pd.read_csv( '../data/store.csv', low_memory=False )\n",
    "\n",
    "# Merge the both raw data\n",
    "# merge(reference_table, merged_table, type of merge, column key equal in both tables )\n",
    "df_raw = pd.merge(df_sales_raw, df_store_raw, how=\"left\", on=\"Store\")"
   ]
  },
  {
   "cell_type": "code",
   "execution_count": 5,
   "id": "3681d9b6",
   "metadata": {
    "ExecuteTime": {
     "end_time": "2023-03-31T12:57:21.941847Z",
     "start_time": "2023-03-31T12:57:21.901828Z"
    }
   },
   "outputs": [
    {
     "data": {
      "text/html": [
       "<div>\n",
       "<style scoped>\n",
       "    .dataframe tbody tr th:only-of-type {\n",
       "        vertical-align: middle;\n",
       "    }\n",
       "\n",
       "    .dataframe tbody tr th {\n",
       "        vertical-align: top;\n",
       "    }\n",
       "\n",
       "    .dataframe thead th {\n",
       "        text-align: right;\n",
       "    }\n",
       "</style>\n",
       "<table border=\"1\" class=\"dataframe\">\n",
       "  <thead>\n",
       "    <tr style=\"text-align: right;\">\n",
       "      <th></th>\n",
       "      <th>Store</th>\n",
       "      <th>DayOfWeek</th>\n",
       "      <th>Date</th>\n",
       "      <th>Sales</th>\n",
       "      <th>Customers</th>\n",
       "      <th>Open</th>\n",
       "      <th>Promo</th>\n",
       "      <th>StateHoliday</th>\n",
       "      <th>SchoolHoliday</th>\n",
       "    </tr>\n",
       "  </thead>\n",
       "  <tbody>\n",
       "    <tr>\n",
       "      <th>525039</th>\n",
       "      <td>660</td>\n",
       "      <td>2</td>\n",
       "      <td>2014-03-18</td>\n",
       "      <td>5281</td>\n",
       "      <td>594</td>\n",
       "      <td>1</td>\n",
       "      <td>1</td>\n",
       "      <td>0</td>\n",
       "      <td>0</td>\n",
       "    </tr>\n",
       "  </tbody>\n",
       "</table>\n",
       "</div>"
      ],
      "text/plain": [
       "        Store  DayOfWeek        Date  Sales  Customers  Open  Promo  \\\n",
       "525039    660          2  2014-03-18   5281        594     1      1   \n",
       "\n",
       "       StateHoliday  SchoolHoliday  \n",
       "525039            0              0  "
      ]
     },
     "execution_count": 5,
     "metadata": {},
     "output_type": "execute_result"
    }
   ],
   "source": [
    "#Sample of sales data\n",
    "df_sales_raw.sample()"
   ]
  },
  {
   "cell_type": "code",
   "execution_count": 6,
   "id": "a1cc91dc",
   "metadata": {
    "ExecuteTime": {
     "end_time": "2023-03-31T12:57:22.716306Z",
     "start_time": "2023-03-31T12:57:22.692288Z"
    }
   },
   "outputs": [
    {
     "data": {
      "text/html": [
       "<div>\n",
       "<style scoped>\n",
       "    .dataframe tbody tr th:only-of-type {\n",
       "        vertical-align: middle;\n",
       "    }\n",
       "\n",
       "    .dataframe tbody tr th {\n",
       "        vertical-align: top;\n",
       "    }\n",
       "\n",
       "    .dataframe thead th {\n",
       "        text-align: right;\n",
       "    }\n",
       "</style>\n",
       "<table border=\"1\" class=\"dataframe\">\n",
       "  <thead>\n",
       "    <tr style=\"text-align: right;\">\n",
       "      <th></th>\n",
       "      <th>Store</th>\n",
       "      <th>StoreType</th>\n",
       "      <th>Assortment</th>\n",
       "      <th>CompetitionDistance</th>\n",
       "      <th>CompetitionOpenSinceMonth</th>\n",
       "      <th>CompetitionOpenSinceYear</th>\n",
       "      <th>Promo2</th>\n",
       "      <th>Promo2SinceWeek</th>\n",
       "      <th>Promo2SinceYear</th>\n",
       "      <th>PromoInterval</th>\n",
       "    </tr>\n",
       "  </thead>\n",
       "  <tbody>\n",
       "    <tr>\n",
       "      <th>880</th>\n",
       "      <td>881</td>\n",
       "      <td>a</td>\n",
       "      <td>a</td>\n",
       "      <td>180.0</td>\n",
       "      <td>3.0</td>\n",
       "      <td>2008.0</td>\n",
       "      <td>1</td>\n",
       "      <td>31.0</td>\n",
       "      <td>2013.0</td>\n",
       "      <td>Feb,May,Aug,Nov</td>\n",
       "    </tr>\n",
       "  </tbody>\n",
       "</table>\n",
       "</div>"
      ],
      "text/plain": [
       "     Store StoreType Assortment  CompetitionDistance  \\\n",
       "880    881         a          a                180.0   \n",
       "\n",
       "     CompetitionOpenSinceMonth  CompetitionOpenSinceYear  Promo2  \\\n",
       "880                        3.0                    2008.0       1   \n",
       "\n",
       "     Promo2SinceWeek  Promo2SinceYear    PromoInterval  \n",
       "880             31.0           2013.0  Feb,May,Aug,Nov  "
      ]
     },
     "execution_count": 6,
     "metadata": {},
     "output_type": "execute_result"
    }
   ],
   "source": [
    "#Sample of store data\n",
    "df_store_raw.sample()"
   ]
  },
  {
   "cell_type": "code",
   "execution_count": 7,
   "id": "9161861c",
   "metadata": {
    "ExecuteTime": {
     "end_time": "2023-03-31T12:57:37.394010Z",
     "start_time": "2023-03-31T12:57:37.277695Z"
    }
   },
   "outputs": [
    {
     "data": {
      "text/html": [
       "<div>\n",
       "<style scoped>\n",
       "    .dataframe tbody tr th:only-of-type {\n",
       "        vertical-align: middle;\n",
       "    }\n",
       "\n",
       "    .dataframe tbody tr th {\n",
       "        vertical-align: top;\n",
       "    }\n",
       "\n",
       "    .dataframe thead th {\n",
       "        text-align: right;\n",
       "    }\n",
       "</style>\n",
       "<table border=\"1\" class=\"dataframe\">\n",
       "  <thead>\n",
       "    <tr style=\"text-align: right;\">\n",
       "      <th></th>\n",
       "      <th>Store</th>\n",
       "      <th>DayOfWeek</th>\n",
       "      <th>Date</th>\n",
       "      <th>Sales</th>\n",
       "      <th>Customers</th>\n",
       "      <th>Open</th>\n",
       "      <th>Promo</th>\n",
       "      <th>StateHoliday</th>\n",
       "      <th>SchoolHoliday</th>\n",
       "      <th>StoreType</th>\n",
       "      <th>Assortment</th>\n",
       "      <th>CompetitionDistance</th>\n",
       "      <th>CompetitionOpenSinceMonth</th>\n",
       "      <th>CompetitionOpenSinceYear</th>\n",
       "      <th>Promo2</th>\n",
       "      <th>Promo2SinceWeek</th>\n",
       "      <th>Promo2SinceYear</th>\n",
       "      <th>PromoInterval</th>\n",
       "    </tr>\n",
       "  </thead>\n",
       "  <tbody>\n",
       "    <tr>\n",
       "      <th>322147</th>\n",
       "      <td>821</td>\n",
       "      <td>3</td>\n",
       "      <td>2014-10-01</td>\n",
       "      <td>9755</td>\n",
       "      <td>1058</td>\n",
       "      <td>1</td>\n",
       "      <td>1</td>\n",
       "      <td>0</td>\n",
       "      <td>0</td>\n",
       "      <td>a</td>\n",
       "      <td>a</td>\n",
       "      <td>1700.0</td>\n",
       "      <td>9.0</td>\n",
       "      <td>2009.0</td>\n",
       "      <td>0</td>\n",
       "      <td>NaN</td>\n",
       "      <td>NaN</td>\n",
       "      <td>NaN</td>\n",
       "    </tr>\n",
       "  </tbody>\n",
       "</table>\n",
       "</div>"
      ],
      "text/plain": [
       "        Store  DayOfWeek        Date  Sales  Customers  Open  Promo  \\\n",
       "322147    821          3  2014-10-01   9755       1058     1      1   \n",
       "\n",
       "       StateHoliday  SchoolHoliday StoreType Assortment  CompetitionDistance  \\\n",
       "322147            0              0         a          a               1700.0   \n",
       "\n",
       "        CompetitionOpenSinceMonth  CompetitionOpenSinceYear  Promo2  \\\n",
       "322147                        9.0                    2009.0       0   \n",
       "\n",
       "        Promo2SinceWeek  Promo2SinceYear PromoInterval  \n",
       "322147              NaN              NaN           NaN  "
      ]
     },
     "execution_count": 7,
     "metadata": {},
     "output_type": "execute_result"
    }
   ],
   "source": [
    "#Sample of sales data\n",
    "df_raw.sample()"
   ]
  },
  {
   "cell_type": "markdown",
   "id": "313aef32",
   "metadata": {},
   "source": [
    "### 2.3.2 DATA DESCRIPTION"
   ]
  },
  {
   "cell_type": "markdown",
   "id": "611f7cfd",
   "metadata": {},
   "source": [
    "#### 2.3.2.1 Rename Columns"
   ]
  },
  {
   "cell_type": "code",
   "execution_count": null,
   "id": "e2576b40",
   "metadata": {},
   "outputs": [],
   "source": []
  }
 ],
 "metadata": {
  "kernelspec": {
   "display_name": "Python 3 (ipykernel)",
   "language": "python",
   "name": "python3"
  },
  "language_info": {
   "codemirror_mode": {
    "name": "ipython",
    "version": 3
   },
   "file_extension": ".py",
   "mimetype": "text/x-python",
   "name": "python",
   "nbconvert_exporter": "python",
   "pygments_lexer": "ipython3",
   "version": "3.8.8"
  },
  "varInspector": {
   "cols": {
    "lenName": 16,
    "lenType": 16,
    "lenVar": 40
   },
   "kernels_config": {
    "python": {
     "delete_cmd_postfix": "",
     "delete_cmd_prefix": "del ",
     "library": "var_list.py",
     "varRefreshCmd": "print(var_dic_list())"
    },
    "r": {
     "delete_cmd_postfix": ") ",
     "delete_cmd_prefix": "rm(",
     "library": "var_list.r",
     "varRefreshCmd": "cat(var_dic_list()) "
    }
   },
   "types_to_exclude": [
    "module",
    "function",
    "builtin_function_or_method",
    "instance",
    "_Feature"
   ],
   "window_display": false
  }
 },
 "nbformat": 4,
 "nbformat_minor": 5
}
