{
 "cells": [
  {
   "cell_type": "markdown",
   "id": "591966f3",
   "metadata": {},
   "source": [
    "# Prediction - Store Sales"
   ]
  },
  {
   "cell_type": "markdown",
   "id": "b1d104b1",
   "metadata": {},
   "source": [
    "# 1.0 Overview"
   ]
  },
  {
   "cell_type": "markdown",
   "id": "ff2ca661",
   "metadata": {
    "heading_collapsed": true
   },
   "source": [
    "### 1.1 Overview\n",
    "\n",
    "Rossmann operates over 3,000 drug stores in 7 European countries. Currently, Rossmann store managers are tasked with predicting their daily sales for up to six weeks in advance. Store sales are influenced by many factors, including promotions, competition, school and state holidays, seasonality, and locality. With thousands of individual managers predicting sales based on their unique circumstances, the accuracy of results can be quite varied.\n",
    "\n",
    "reference: https://www.kaggle.com/competitions/rossmann-store-sales/data"
   ]
  },
  {
   "cell_type": "markdown",
   "id": "7df0fe36",
   "metadata": {},
   "source": [
    "### 1.1.2 CRISP - DS"
   ]
  },
  {
   "cell_type": "markdown",
   "id": "c30a0fe1",
   "metadata": {},
   "source": [
    "CRoss-Industry Process - Data Science\n",
    "\n",
    "- Development Cicle Method \n",
    "   - Do the same process many times to improve the prediction in each cicle.\n",
    "   - In each end-to-end cicle have a version with the solution.\n",
    "   - Velocity to delivery values.\n",
    "   - Mapping all possibibles problems.\n",
    "   "
   ]
  },
  {
   "cell_type": "markdown",
   "id": "ede4bad7",
   "metadata": {},
   "source": [
    "#### 1.1.2.1 CRISP Steps"
   ]
  },
  {
   "cell_type": "markdown",
   "id": "bca46e0e",
   "metadata": {},
   "source": [
    "1. Business questions - Try to solve problems with all areas and people.\n",
    "2. Understand the Business - What's the poeple want? Normally the people give the solution, and we need to discover the \"pain\" of this person/business\n",
    "3. Data Collect - From Databases, API, Files...\n",
    "4. Data Clean - Keep a \"stadard\" data and remove dirty data, fillout NA's...\n",
    "5. Data Exploration - What's the variable will impact the model(the result). Find the correlation between the fields.\n",
    "6. Data Modeling - Prepare the data to put into the ML code (train and test, encoding, transform data, answer data...)\n",
    "7. Apply ML \n",
    "8. Algoritimun Accuracy - Calculate the errors using ML's/Statistics (MAP, RME, MAPE, RMSE, ROCK, ACCURACY, TRUE TABLE...)\n",
    "\n",
    "After the step 8º you and the team can see that the accuracy of the FIRST model will impact well the solution (normally not happen after the first cicle), we can put the MODEL in production, if not, start the other CICLE in STEP 2.\n",
    "\n",
    "**IMPORTANT** you not back on the step 1 because the problem will be YOU, and we need to decide and change the steps 2º to 8º."
   ]
  },
  {
   "cell_type": "markdown",
   "id": "2e79fc95",
   "metadata": {
    "ExecuteTime": {
     "end_time": "2023-03-30T18:23:46.073087Z",
     "start_time": "2023-03-30T18:23:46.061086Z"
    },
    "heading_collapsed": true
   },
   "source": [
    "#### 1.1.2.2 Business Questions\n",
    "\n",
    "What's the sales value of each store in the next 6 weeks?"
   ]
  },
  {
   "cell_type": "markdown",
   "id": "9b6a67dc",
   "metadata": {
    "ExecuteTime": {
     "end_time": "2023-03-30T18:23:46.073087Z",
     "start_time": "2023-03-30T18:23:46.061086Z"
    },
    "heading_collapsed": true
   },
   "source": [
    "#### 1.1.2.3 Understand the Business\n",
    "\n",
    "- **What's the motivation to do this?** CFO (Chief Financial Officer) has requested the prediction of sales at the monthly meeting about the stores results.\n",
    "- **What's the main cause of the problem?** Difficult to understand the value of investment to renovate each store.\n",
    "- **Who is the stakeholder of the problem?** Director Finance (CFO) of Rossmann\n",
    "- **What's the solution/product format that will be delivered?**\n",
    "    - Granularity: Prediction sell per day and store on the next 42 days (6 weeks).\n",
    "    - Problem type: Forecast sell .\n",
    "    - Potencials Methods: Temporal series, regression with modifications.\n",
    "    - Product/solution format: Check on the phone the total salles in each store on the final of the 6 weeks"
   ]
  },
  {
   "cell_type": "markdown",
   "id": "fbe6a8eb",
   "metadata": {},
   "source": [
    "# 2.0 IMPORTS"
   ]
  },
  {
   "cell_type": "code",
   "execution_count": 1,
   "id": "ab7a6a37",
   "metadata": {
    "ExecuteTime": {
     "end_time": "2023-04-01T14:38:06.074806Z",
     "start_time": "2023-04-01T14:38:05.411580Z"
    }
   },
   "outputs": [],
   "source": [
    "import numpy as np\n",
    "import pandas as pd\n",
    "import seaborn as sns\n",
    "import matplotlib.pyplot  as plt\n",
    "\n",
    "import inflection\n",
    "import math\n",
    "\n",
    "\n",
    "from IPython.display         import HTML"
   ]
  },
  {
   "cell_type": "markdown",
   "id": "fa9bb0cb",
   "metadata": {},
   "source": [
    "# 3.0 Data clean"
   ]
  },
  {
   "cell_type": "markdown",
   "id": "7de906ac",
   "metadata": {
    "ExecuteTime": {
     "end_time": "2023-03-29T19:35:16.539268Z",
     "start_time": "2023-03-29T19:35:15.460155Z"
    }
   },
   "source": [
    "- **Why Data Description?**\n",
    "    - **How challenger is the problem im working?**\n",
    "    - **What's the duration of this problem?**\n",
    "        - Years?\n",
    "        - Months?\n",
    "        - Days?\n",
    "    - **What's the quantity of the data?**\n",
    "        - I have the enought resourcing to work?\n",
    "            - I need servers to process the data?\n",
    "            - Clusters?\n",
    "            - Spark?\n",
    "            - Hadoop?\n",
    "    - **What's the variable types (will help to decide the techniques to apply):**\n",
    "        - % Numeric?\n",
    "        - % Categories?\n",
    "        - % Temporal?\n",
    "    - **What's the NA(non-applicable/empty) data?**\n",
    "        - NA's volume\n",
    "        - What's the reazon of this NA's? \n",
    "            - I can do the job?\n",
    "            - How I will reaplace the data?\n",
    "            - I can replace or delete the data?\n",
    "            - **details** sometimes the system isn't recording the data, the input is manually.\n",
    "    - **Data summary:**\n",
    "        - Describe stats.\n",
    "        - Get the limits, minimum, maximun, STD, mean...\n",
    "        \n",
    "    "
   ]
  },
  {
   "cell_type": "markdown",
   "id": "823f2568",
   "metadata": {},
   "source": [
    "### 3.0.1 Helper Functions"
   ]
  },
  {
   "cell_type": "code",
   "execution_count": 2,
   "id": "534fa5ec",
   "metadata": {
    "ExecuteTime": {
     "end_time": "2023-04-01T14:38:06.090809Z",
     "start_time": "2023-04-01T14:38:06.076810Z"
    }
   },
   "outputs": [
    {
     "data": {
      "text/html": [
       "<style>.container { width:100% !important; }</style>"
      ],
      "text/plain": [
       "<IPython.core.display.HTML object>"
      ]
     },
     "metadata": {},
     "output_type": "display_data"
    }
   ],
   "source": [
    "def jupyter_settings():\n",
    "    %matplotlib inline\n",
    "    \n",
    "    plt.style.use( 'bmh' )\n",
    "    plt.rcParams['figure.figsize'] = [25, 12]\n",
    "    plt.rcParams['font.size'] = 24\n",
    "    display( HTML( '<style>.container { width:100% !important; }</style>') )\n",
    "    pd.options.display.max_columns = None\n",
    "    pd.options.display.max_rows = None\n",
    "    pd.set_option( 'display.expand_frame_repr', False )\n",
    "\n",
    "    sns.set()\n",
    "    \n",
    "jupyter_settings()"
   ]
  },
  {
   "cell_type": "markdown",
   "id": "aeac0be2",
   "metadata": {},
   "source": [
    "### 3.0.2 Loading Data"
   ]
  },
  {
   "cell_type": "code",
   "execution_count": 3,
   "id": "ca19f756",
   "metadata": {
    "ExecuteTime": {
     "end_time": "2023-04-01T14:38:06.807806Z",
     "start_time": "2023-04-01T14:38:06.091810Z"
    }
   },
   "outputs": [],
   "source": [
    "df_sales_raw = pd.read_csv( '../data/train.csv', low_memory=False )\n",
    "df_store_raw = pd.read_csv( '../data/store.csv', low_memory=False )\n",
    "\n",
    "# Merge the both raw data\n",
    "# merge(reference_table, merged_table, type of merge, column key equal in both tables )\n",
    "df_raw = pd.merge(df_sales_raw, df_store_raw, how=\"left\", on=\"Store\")"
   ]
  },
  {
   "cell_type": "code",
   "execution_count": 4,
   "id": "3681d9b6",
   "metadata": {
    "ExecuteTime": {
     "end_time": "2023-04-01T14:38:06.855808Z",
     "start_time": "2023-04-01T14:38:06.809811Z"
    }
   },
   "outputs": [
    {
     "data": {
      "text/html": [
       "<div>\n",
       "<style scoped>\n",
       "    .dataframe tbody tr th:only-of-type {\n",
       "        vertical-align: middle;\n",
       "    }\n",
       "\n",
       "    .dataframe tbody tr th {\n",
       "        vertical-align: top;\n",
       "    }\n",
       "\n",
       "    .dataframe thead th {\n",
       "        text-align: right;\n",
       "    }\n",
       "</style>\n",
       "<table border=\"1\" class=\"dataframe\">\n",
       "  <thead>\n",
       "    <tr style=\"text-align: right;\">\n",
       "      <th></th>\n",
       "      <th>Store</th>\n",
       "      <th>DayOfWeek</th>\n",
       "      <th>Date</th>\n",
       "      <th>Sales</th>\n",
       "      <th>Customers</th>\n",
       "      <th>Open</th>\n",
       "      <th>Promo</th>\n",
       "      <th>StateHoliday</th>\n",
       "      <th>SchoolHoliday</th>\n",
       "    </tr>\n",
       "  </thead>\n",
       "  <tbody>\n",
       "    <tr>\n",
       "      <th>831652</th>\n",
       "      <td>648</td>\n",
       "      <td>7</td>\n",
       "      <td>2013-06-16</td>\n",
       "      <td>0</td>\n",
       "      <td>0</td>\n",
       "      <td>0</td>\n",
       "      <td>0</td>\n",
       "      <td>0</td>\n",
       "      <td>0</td>\n",
       "    </tr>\n",
       "  </tbody>\n",
       "</table>\n",
       "</div>"
      ],
      "text/plain": [
       "        Store  DayOfWeek        Date  Sales  Customers  Open  Promo StateHoliday  SchoolHoliday\n",
       "831652    648          7  2013-06-16      0          0     0      0            0              0"
      ]
     },
     "execution_count": 4,
     "metadata": {},
     "output_type": "execute_result"
    }
   ],
   "source": [
    "#Sample of sales data\n",
    "df_sales_raw.sample()"
   ]
  },
  {
   "cell_type": "code",
   "execution_count": 5,
   "id": "a1cc91dc",
   "metadata": {
    "ExecuteTime": {
     "end_time": "2023-04-01T14:38:06.871806Z",
     "start_time": "2023-04-01T14:38:06.856809Z"
    }
   },
   "outputs": [
    {
     "data": {
      "text/html": [
       "<div>\n",
       "<style scoped>\n",
       "    .dataframe tbody tr th:only-of-type {\n",
       "        vertical-align: middle;\n",
       "    }\n",
       "\n",
       "    .dataframe tbody tr th {\n",
       "        vertical-align: top;\n",
       "    }\n",
       "\n",
       "    .dataframe thead th {\n",
       "        text-align: right;\n",
       "    }\n",
       "</style>\n",
       "<table border=\"1\" class=\"dataframe\">\n",
       "  <thead>\n",
       "    <tr style=\"text-align: right;\">\n",
       "      <th></th>\n",
       "      <th>Store</th>\n",
       "      <th>StoreType</th>\n",
       "      <th>Assortment</th>\n",
       "      <th>CompetitionDistance</th>\n",
       "      <th>CompetitionOpenSinceMonth</th>\n",
       "      <th>CompetitionOpenSinceYear</th>\n",
       "      <th>Promo2</th>\n",
       "      <th>Promo2SinceWeek</th>\n",
       "      <th>Promo2SinceYear</th>\n",
       "      <th>PromoInterval</th>\n",
       "    </tr>\n",
       "  </thead>\n",
       "  <tbody>\n",
       "    <tr>\n",
       "      <th>530</th>\n",
       "      <td>531</td>\n",
       "      <td>a</td>\n",
       "      <td>c</td>\n",
       "      <td>4030.0</td>\n",
       "      <td>NaN</td>\n",
       "      <td>NaN</td>\n",
       "      <td>0</td>\n",
       "      <td>NaN</td>\n",
       "      <td>NaN</td>\n",
       "      <td>NaN</td>\n",
       "    </tr>\n",
       "  </tbody>\n",
       "</table>\n",
       "</div>"
      ],
      "text/plain": [
       "     Store StoreType Assortment  CompetitionDistance  CompetitionOpenSinceMonth  CompetitionOpenSinceYear  Promo2  Promo2SinceWeek  Promo2SinceYear PromoInterval\n",
       "530    531         a          c               4030.0                        NaN                       NaN       0              NaN              NaN           NaN"
      ]
     },
     "execution_count": 5,
     "metadata": {},
     "output_type": "execute_result"
    }
   ],
   "source": [
    "#Sample of store data\n",
    "df_store_raw.sample()"
   ]
  },
  {
   "cell_type": "code",
   "execution_count": 6,
   "id": "9161861c",
   "metadata": {
    "ExecuteTime": {
     "end_time": "2023-04-01T14:38:06.999809Z",
     "start_time": "2023-04-01T14:38:06.872806Z"
    }
   },
   "outputs": [
    {
     "data": {
      "text/html": [
       "<div>\n",
       "<style scoped>\n",
       "    .dataframe tbody tr th:only-of-type {\n",
       "        vertical-align: middle;\n",
       "    }\n",
       "\n",
       "    .dataframe tbody tr th {\n",
       "        vertical-align: top;\n",
       "    }\n",
       "\n",
       "    .dataframe thead th {\n",
       "        text-align: right;\n",
       "    }\n",
       "</style>\n",
       "<table border=\"1\" class=\"dataframe\">\n",
       "  <thead>\n",
       "    <tr style=\"text-align: right;\">\n",
       "      <th></th>\n",
       "      <th>Store</th>\n",
       "      <th>DayOfWeek</th>\n",
       "      <th>Date</th>\n",
       "      <th>Sales</th>\n",
       "      <th>Customers</th>\n",
       "      <th>Open</th>\n",
       "      <th>Promo</th>\n",
       "      <th>StateHoliday</th>\n",
       "      <th>SchoolHoliday</th>\n",
       "      <th>StoreType</th>\n",
       "      <th>Assortment</th>\n",
       "      <th>CompetitionDistance</th>\n",
       "      <th>CompetitionOpenSinceMonth</th>\n",
       "      <th>CompetitionOpenSinceYear</th>\n",
       "      <th>Promo2</th>\n",
       "      <th>Promo2SinceWeek</th>\n",
       "      <th>Promo2SinceYear</th>\n",
       "      <th>PromoInterval</th>\n",
       "    </tr>\n",
       "  </thead>\n",
       "  <tbody>\n",
       "    <tr>\n",
       "      <th>772476</th>\n",
       "      <td>567</td>\n",
       "      <td>4</td>\n",
       "      <td>2013-08-08</td>\n",
       "      <td>4355</td>\n",
       "      <td>602</td>\n",
       "      <td>1</td>\n",
       "      <td>0</td>\n",
       "      <td>0</td>\n",
       "      <td>1</td>\n",
       "      <td>c</td>\n",
       "      <td>a</td>\n",
       "      <td>1010.0</td>\n",
       "      <td>9.0</td>\n",
       "      <td>2012.0</td>\n",
       "      <td>1</td>\n",
       "      <td>18.0</td>\n",
       "      <td>2011.0</td>\n",
       "      <td>Feb,May,Aug,Nov</td>\n",
       "    </tr>\n",
       "  </tbody>\n",
       "</table>\n",
       "</div>"
      ],
      "text/plain": [
       "        Store  DayOfWeek        Date  Sales  Customers  Open  Promo StateHoliday  SchoolHoliday StoreType Assortment  CompetitionDistance  CompetitionOpenSinceMonth  CompetitionOpenSinceYear  Promo2  Promo2SinceWeek  Promo2SinceYear    PromoInterval\n",
       "772476    567          4  2013-08-08   4355        602     1      0            0              1         c          a               1010.0                        9.0                    2012.0       1             18.0           2011.0  Feb,May,Aug,Nov"
      ]
     },
     "execution_count": 6,
     "metadata": {},
     "output_type": "execute_result"
    }
   ],
   "source": [
    "#Sample of sales data\n",
    "df_raw.sample()"
   ]
  },
  {
   "cell_type": "markdown",
   "id": "313aef32",
   "metadata": {},
   "source": [
    "## 3.1 DATA DESCRIPTION"
   ]
  },
  {
   "cell_type": "markdown",
   "id": "611f7cfd",
   "metadata": {},
   "source": [
    "#### 3.1.1 Rename Columns"
   ]
  },
  {
   "cell_type": "code",
   "execution_count": 7,
   "id": "5d63ae42",
   "metadata": {
    "ExecuteTime": {
     "end_time": "2023-04-01T14:38:07.047830Z",
     "start_time": "2023-04-01T14:38:07.000810Z"
    }
   },
   "outputs": [],
   "source": [
    "#Copy to keep the raw data.\n",
    "df1 = df_raw.copy()"
   ]
  },
  {
   "cell_type": "code",
   "execution_count": 8,
   "id": "e2576b40",
   "metadata": {
    "ExecuteTime": {
     "end_time": "2023-04-01T14:38:07.063922Z",
     "start_time": "2023-04-01T14:38:07.048830Z"
    }
   },
   "outputs": [
    {
     "data": {
      "text/plain": [
       "Index(['Store', 'DayOfWeek', 'Date', 'Sales', 'Customers', 'Open', 'Promo',\n",
       "       'StateHoliday', 'SchoolHoliday', 'StoreType', 'Assortment',\n",
       "       'CompetitionDistance', 'CompetitionOpenSinceMonth',\n",
       "       'CompetitionOpenSinceYear', 'Promo2', 'Promo2SinceWeek',\n",
       "       'Promo2SinceYear', 'PromoInterval'],\n",
       "      dtype='object')"
      ]
     },
     "execution_count": 8,
     "metadata": {},
     "output_type": "execute_result"
    }
   ],
   "source": [
    "#Show the columns name\n",
    "df1.columns"
   ]
  },
  {
   "cell_type": "code",
   "execution_count": 9,
   "id": "a8401ac5",
   "metadata": {
    "ExecuteTime": {
     "end_time": "2023-04-01T14:38:07.079984Z",
     "start_time": "2023-04-01T14:38:07.065926Z"
    }
   },
   "outputs": [
    {
     "data": {
      "text/plain": [
       "Index(['store', 'day_of_week', 'date', 'sales', 'customers', 'open', 'promo',\n",
       "       'state_holiday', 'school_holiday', 'store_type', 'assortment',\n",
       "       'competition_distance', 'competition_open_since_month',\n",
       "       'competition_open_since_year', 'promo2', 'promo2_since_week',\n",
       "       'promo2_since_year', 'promo_interval'],\n",
       "      dtype='object')"
      ]
     },
     "execution_count": 9,
     "metadata": {},
     "output_type": "execute_result"
    }
   ],
   "source": [
    "cols_old_names = df1.columns\n",
    "\n",
    "#Create a function using the inflection library with undersocore method to puth _ between the name of the columns\n",
    "snakecase = lambda x: inflection.underscore(x)\n",
    "\n",
    "#Create a list with new columns name\n",
    "cols_new_name = list(map(snakecase, cols_old_names))\n",
    "\n",
    "#replace the old to new columns names\n",
    "df1.columns = cols_new_name\n",
    "\n",
    "#Show the new names\n",
    "df1.columns"
   ]
  },
  {
   "cell_type": "markdown",
   "id": "1e9cb580",
   "metadata": {},
   "source": [
    "#### 3.1.2 Data Dimensions"
   ]
  },
  {
   "cell_type": "code",
   "execution_count": 10,
   "id": "a5e563b7",
   "metadata": {
    "ExecuteTime": {
     "end_time": "2023-04-01T14:38:07.095503Z",
     "start_time": "2023-04-01T14:38:07.082987Z"
    }
   },
   "outputs": [
    {
     "name": "stdout",
     "output_type": "stream",
     "text": [
      "Number of Rows: 1017209\n",
      "Number of Columns: 18\n"
     ]
    }
   ],
   "source": [
    "#Total rows and columns\n",
    "print('Number of Rows: {}'.format(df1.shape[0]))\n",
    "print('Number of Columns: {}'.format(df1.shape[1]))"
   ]
  },
  {
   "cell_type": "markdown",
   "id": "396ed2d9",
   "metadata": {},
   "source": [
    "#### 3.1.3 Data Types"
   ]
  },
  {
   "cell_type": "code",
   "execution_count": 11,
   "id": "427e4b23",
   "metadata": {
    "ExecuteTime": {
     "end_time": "2023-04-01T14:38:07.111502Z",
     "start_time": "2023-04-01T14:38:07.097502Z"
    }
   },
   "outputs": [
    {
     "data": {
      "text/plain": [
       "store                             int64\n",
       "day_of_week                       int64\n",
       "date                             object\n",
       "sales                             int64\n",
       "customers                         int64\n",
       "open                              int64\n",
       "promo                             int64\n",
       "state_holiday                    object\n",
       "school_holiday                    int64\n",
       "store_type                       object\n",
       "assortment                       object\n",
       "competition_distance            float64\n",
       "competition_open_since_month    float64\n",
       "competition_open_since_year     float64\n",
       "promo2                            int64\n",
       "promo2_since_week               float64\n",
       "promo2_since_year               float64\n",
       "promo_interval                   object\n",
       "dtype: object"
      ]
     },
     "execution_count": 11,
     "metadata": {},
     "output_type": "execute_result"
    }
   ],
   "source": [
    "#Show the data type for each column\n",
    "df1.dtypes"
   ]
  },
  {
   "cell_type": "code",
   "execution_count": 12,
   "id": "52b9e2d0",
   "metadata": {
    "ExecuteTime": {
     "end_time": "2023-04-01T14:38:07.222502Z",
     "start_time": "2023-04-01T14:38:07.113503Z"
    }
   },
   "outputs": [],
   "source": [
    "#Change the date object to datetime type\n",
    "df1['date'] = pd.to_datetime( df1['date'] )"
   ]
  },
  {
   "cell_type": "markdown",
   "id": "627c87a4",
   "metadata": {},
   "source": [
    "#### 3.1.4 Check NA's"
   ]
  },
  {
   "cell_type": "code",
   "execution_count": 13,
   "id": "fc854a5b",
   "metadata": {
    "ExecuteTime": {
     "end_time": "2023-04-01T14:38:07.693502Z",
     "start_time": "2023-04-01T14:38:07.223505Z"
    }
   },
   "outputs": [
    {
     "data": {
      "text/plain": [
       "store                                0\n",
       "day_of_week                          0\n",
       "date                                 0\n",
       "sales                                0\n",
       "customers                            0\n",
       "open                                 0\n",
       "promo                                0\n",
       "state_holiday                        0\n",
       "school_holiday                       0\n",
       "store_type                           0\n",
       "assortment                           0\n",
       "competition_distance              2642\n",
       "competition_open_since_month    323348\n",
       "competition_open_since_year     323348\n",
       "promo2                               0\n",
       "promo2_since_week               508031\n",
       "promo2_since_year               508031\n",
       "promo_interval                  508031\n",
       "dtype: int64"
      ]
     },
     "execution_count": 13,
     "metadata": {},
     "output_type": "execute_result"
    }
   ],
   "source": [
    "#Check the NA's total has in each line\n",
    "df1.isna().sum()"
   ]
  },
  {
   "cell_type": "markdown",
   "id": "f39ba5ac",
   "metadata": {},
   "source": [
    "**important** We have three possibilities to management the NA's\n",
    "  1. Discard the row that contain NA's (delete)\n",
    "  2. Use the mean, median, or ML methods.\n",
    "  3. Use the business questions to decide how we can replace."
   ]
  },
  {
   "cell_type": "markdown",
   "id": "e207ec73",
   "metadata": {
    "ExecuteTime": {
     "end_time": "2023-04-01T11:21:47.758349Z",
     "start_time": "2023-04-01T11:21:47.744358Z"
    }
   },
   "source": [
    "##### 3.1.4.1 Fillout NA's"
   ]
  },
  {
   "cell_type": "code",
   "execution_count": 14,
   "id": "d46b130b",
   "metadata": {
    "ExecuteTime": {
     "end_time": "2023-04-01T14:38:42.561459Z",
     "start_time": "2023-04-01T14:38:07.694502Z"
    }
   },
   "outputs": [],
   "source": [
    "#CompetitionDistance - distance in meters to the nearest competitor store\n",
    "#decision: Assuming two hypotheses, or the store doesn't have competition or the competitor store is very far.\n",
    "#action: Fillout the NA's with a big distance to assuming these stores doesn't have a competition.\n",
    "# df1['competition_distance'].max() = 75860.0\n",
    "\n",
    "df1['competition_distance'] = df1['competition_distance'].apply( lambda x: 200000.0 if math.isnan( x ) else x )\n",
    "\n",
    "\n",
    "#CompetitionOpenSince[Month/Year] - gives the approximate year and month of the time the nearest competitor was opened\n",
    "#decision: Assuming these hypotheses, or the store doesn't open yet or the store opened before our store or we didn't record when the competitor store was open.\n",
    "#action: Fillout the NA's with the same sale date of the same row.\n",
    "\n",
    "df1['competition_open_since_month'] = df1.apply(lambda x: x['date'].month if math.isnan( x['competition_open_since_month'] ) else x['competition_open_since_month'], axis=1)\n",
    "df1['competition_open_since_year']  = df1.apply(lambda x: x['date'].year if math.isnan( x['competition_open_since_year'] ) else x['competition_open_since_year'], axis=1)\n",
    "\n",
    "\n",
    "#Promo2 - Promo2 is a continuing and consecutive promotion for some stores: 0 = store is not participating, 1 = store is participating\n",
    "#Promo2Since[Year/Week] - describes the year and calendar week when the store started participating in Promo2\n",
    "#decision: Assuming the store doesn't want to participate of the promo2 .\n",
    "#action: Fillout the NA's with the same sale date of the same row.\n",
    "\n",
    "df1['promo2_since_week'] = df1.apply(lambda x: x['date'].week if math.isnan( x['promo2_since_week'] ) else x['promo2_since_week'], axis=1)\n",
    "df1['promo2_since_year'] = df1.apply(lambda x: x['date'].year if math.isnan( x['promo2_since_year'] ) else x['promo2_since_year'], axis=1)\n",
    "\n",
    "#PromoInterval - describes the consecutive intervals Promo2 is started, naming the months the promotion is started anew. E.g. \"Feb,May,Aug,Nov\" means each round starts in February, May, August, November of any given year for that store#decision: Assuming the store doesn't want to participate of the promo2 .\n",
    "#decision: Getting the month of the date sale and replace number to prefix month later fillna to 0 and cheching if this month is into the promo_interval, if yes set 1 else 0\n",
    "#action: Fillout the NA's with the same sale date of the same row.\n",
    "\n",
    "#Create the month_map\n",
    "month_map = {1: 'Jan', 2: 'Feb', 3: 'Mar', 4: 'Apr', 5: 'May', 6: 'Jun', 7: 'Jul', 8: 'Aug', 9: 'Sep', 10: 'Oct', 11: 'Nov', 12: 'Dec'}\n",
    "\n",
    "#Fillna = 0, implace is not show the message/question\n",
    "df1['promo_interval'].fillna(0, inplace=True)\n",
    "\n",
    "#Create a column to see the months in \"prefix\" name\n",
    "#get the DATE columns, transform in DATE(dt), get the month (month), and map(map) all data using the variable month_map\n",
    "df1['month_map'] = df1['date'].dt.month.map( month_map )\n",
    "\n",
    "#First condition: Split the promo_terval in comma, and check if df1['month_map'] is in on df1['promo_interval'], if yes 1 else 0\n",
    "# 1 = The store is participating of the promo\n",
    "# 0 = The store is not participating of the promo\n",
    "\n",
    "#Second condition: If df1['promo_interval'] = 0 means that the store wasn't participating of the consecutive promotion\n",
    "df1['ispromo'] = df1[['promo_interval','month_map']].apply (lambda x: 0 if x['promo_interval'] == 0 else 1 if x['month_map'] in x['promo_interval'].split( ',' ) else 0, axis=1)\n",
    " "
   ]
  },
  {
   "cell_type": "code",
   "execution_count": 15,
   "id": "01fd30b5",
   "metadata": {
    "ExecuteTime": {
     "end_time": "2023-04-01T14:38:42.624460Z",
     "start_time": "2023-04-01T14:38:42.562460Z"
    }
   },
   "outputs": [
    {
     "data": {
      "text/html": [
       "<div>\n",
       "<style scoped>\n",
       "    .dataframe tbody tr th:only-of-type {\n",
       "        vertical-align: middle;\n",
       "    }\n",
       "\n",
       "    .dataframe tbody tr th {\n",
       "        vertical-align: top;\n",
       "    }\n",
       "\n",
       "    .dataframe thead th {\n",
       "        text-align: right;\n",
       "    }\n",
       "</style>\n",
       "<table border=\"1\" class=\"dataframe\">\n",
       "  <thead>\n",
       "    <tr style=\"text-align: right;\">\n",
       "      <th></th>\n",
       "      <th>830495</th>\n",
       "      <th>887307</th>\n",
       "      <th>438539</th>\n",
       "      <th>20258</th>\n",
       "      <th>255078</th>\n",
       "    </tr>\n",
       "  </thead>\n",
       "  <tbody>\n",
       "    <tr>\n",
       "      <th>store</th>\n",
       "      <td>606</td>\n",
       "      <td>553</td>\n",
       "      <td>15</td>\n",
       "      <td>189</td>\n",
       "      <td>1114</td>\n",
       "    </tr>\n",
       "    <tr>\n",
       "      <th>day_of_week</th>\n",
       "      <td>1</td>\n",
       "      <td>6</td>\n",
       "      <td>2</td>\n",
       "      <td>1</td>\n",
       "      <td>5</td>\n",
       "    </tr>\n",
       "    <tr>\n",
       "      <th>date</th>\n",
       "      <td>2013-06-17 00:00:00</td>\n",
       "      <td>2013-04-27 00:00:00</td>\n",
       "      <td>2014-06-03 00:00:00</td>\n",
       "      <td>2015-07-13 00:00:00</td>\n",
       "      <td>2014-12-12 00:00:00</td>\n",
       "    </tr>\n",
       "    <tr>\n",
       "      <th>sales</th>\n",
       "      <td>8459</td>\n",
       "      <td>10103</td>\n",
       "      <td>7805</td>\n",
       "      <td>12550</td>\n",
       "      <td>19390</td>\n",
       "    </tr>\n",
       "    <tr>\n",
       "      <th>customers</th>\n",
       "      <td>831</td>\n",
       "      <td>971</td>\n",
       "      <td>720</td>\n",
       "      <td>1021</td>\n",
       "      <td>3126</td>\n",
       "    </tr>\n",
       "    <tr>\n",
       "      <th>open</th>\n",
       "      <td>1</td>\n",
       "      <td>1</td>\n",
       "      <td>1</td>\n",
       "      <td>1</td>\n",
       "      <td>1</td>\n",
       "    </tr>\n",
       "    <tr>\n",
       "      <th>promo</th>\n",
       "      <td>1</td>\n",
       "      <td>0</td>\n",
       "      <td>1</td>\n",
       "      <td>1</td>\n",
       "      <td>0</td>\n",
       "    </tr>\n",
       "    <tr>\n",
       "      <th>state_holiday</th>\n",
       "      <td>0</td>\n",
       "      <td>0</td>\n",
       "      <td>0</td>\n",
       "      <td>0</td>\n",
       "      <td>0</td>\n",
       "    </tr>\n",
       "    <tr>\n",
       "      <th>school_holiday</th>\n",
       "      <td>0</td>\n",
       "      <td>0</td>\n",
       "      <td>0</td>\n",
       "      <td>0</td>\n",
       "      <td>0</td>\n",
       "    </tr>\n",
       "    <tr>\n",
       "      <th>store_type</th>\n",
       "      <td>a</td>\n",
       "      <td>c</td>\n",
       "      <td>d</td>\n",
       "      <td>d</td>\n",
       "      <td>a</td>\n",
       "    </tr>\n",
       "    <tr>\n",
       "      <th>assortment</th>\n",
       "      <td>a</td>\n",
       "      <td>a</td>\n",
       "      <td>c</td>\n",
       "      <td>a</td>\n",
       "      <td>c</td>\n",
       "    </tr>\n",
       "    <tr>\n",
       "      <th>competition_distance</th>\n",
       "      <td>2260.0</td>\n",
       "      <td>3040.0</td>\n",
       "      <td>4110.0</td>\n",
       "      <td>5760.0</td>\n",
       "      <td>870.0</td>\n",
       "    </tr>\n",
       "    <tr>\n",
       "      <th>competition_open_since_month</th>\n",
       "      <td>11.0</td>\n",
       "      <td>9.0</td>\n",
       "      <td>3.0</td>\n",
       "      <td>7.0</td>\n",
       "      <td>12.0</td>\n",
       "    </tr>\n",
       "    <tr>\n",
       "      <th>competition_open_since_year</th>\n",
       "      <td>2007.0</td>\n",
       "      <td>2002.0</td>\n",
       "      <td>2010.0</td>\n",
       "      <td>2014.0</td>\n",
       "      <td>2014.0</td>\n",
       "    </tr>\n",
       "    <tr>\n",
       "      <th>promo2</th>\n",
       "      <td>0</td>\n",
       "      <td>1</td>\n",
       "      <td>1</td>\n",
       "      <td>0</td>\n",
       "      <td>0</td>\n",
       "    </tr>\n",
       "    <tr>\n",
       "      <th>promo2_since_week</th>\n",
       "      <td>25.0</td>\n",
       "      <td>13.0</td>\n",
       "      <td>14.0</td>\n",
       "      <td>29.0</td>\n",
       "      <td>50.0</td>\n",
       "    </tr>\n",
       "    <tr>\n",
       "      <th>promo2_since_year</th>\n",
       "      <td>2013.0</td>\n",
       "      <td>2010.0</td>\n",
       "      <td>2011.0</td>\n",
       "      <td>2015.0</td>\n",
       "      <td>2014.0</td>\n",
       "    </tr>\n",
       "    <tr>\n",
       "      <th>promo_interval</th>\n",
       "      <td>0</td>\n",
       "      <td>Jan,Apr,Jul,Oct</td>\n",
       "      <td>Jan,Apr,Jul,Oct</td>\n",
       "      <td>0</td>\n",
       "      <td>0</td>\n",
       "    </tr>\n",
       "    <tr>\n",
       "      <th>month_map</th>\n",
       "      <td>Jun</td>\n",
       "      <td>Apr</td>\n",
       "      <td>Jun</td>\n",
       "      <td>Jul</td>\n",
       "      <td>Dec</td>\n",
       "    </tr>\n",
       "    <tr>\n",
       "      <th>ispromo</th>\n",
       "      <td>0</td>\n",
       "      <td>1</td>\n",
       "      <td>0</td>\n",
       "      <td>0</td>\n",
       "      <td>0</td>\n",
       "    </tr>\n",
       "  </tbody>\n",
       "</table>\n",
       "</div>"
      ],
      "text/plain": [
       "                                           830495               887307               438539               20258                255078\n",
       "store                                         606                  553                   15                  189                 1114\n",
       "day_of_week                                     1                    6                    2                    1                    5\n",
       "date                          2013-06-17 00:00:00  2013-04-27 00:00:00  2014-06-03 00:00:00  2015-07-13 00:00:00  2014-12-12 00:00:00\n",
       "sales                                        8459                10103                 7805                12550                19390\n",
       "customers                                     831                  971                  720                 1021                 3126\n",
       "open                                            1                    1                    1                    1                    1\n",
       "promo                                           1                    0                    1                    1                    0\n",
       "state_holiday                                   0                    0                    0                    0                    0\n",
       "school_holiday                                  0                    0                    0                    0                    0\n",
       "store_type                                      a                    c                    d                    d                    a\n",
       "assortment                                      a                    a                    c                    a                    c\n",
       "competition_distance                       2260.0               3040.0               4110.0               5760.0                870.0\n",
       "competition_open_since_month                 11.0                  9.0                  3.0                  7.0                 12.0\n",
       "competition_open_since_year                2007.0               2002.0               2010.0               2014.0               2014.0\n",
       "promo2                                          0                    1                    1                    0                    0\n",
       "promo2_since_week                            25.0                 13.0                 14.0                 29.0                 50.0\n",
       "promo2_since_year                          2013.0               2010.0               2011.0               2015.0               2014.0\n",
       "promo_interval                                  0      Jan,Apr,Jul,Oct      Jan,Apr,Jul,Oct                    0                    0\n",
       "month_map                                     Jun                  Apr                  Jun                  Jul                  Dec\n",
       "ispromo                                         0                    1                    0                    0                    0"
      ]
     },
     "execution_count": 15,
     "metadata": {},
     "output_type": "execute_result"
    }
   ],
   "source": [
    "df1.sample(5).T"
   ]
  },
  {
   "cell_type": "markdown",
   "id": "76967a64",
   "metadata": {
    "ExecuteTime": {
     "end_time": "2023-04-01T13:32:24.857904Z",
     "start_time": "2023-04-01T13:32:24.840904Z"
    }
   },
   "source": [
    "##### 3.1.4.5 Change Types"
   ]
  },
  {
   "cell_type": "code",
   "execution_count": 16,
   "id": "867fff4d",
   "metadata": {
    "ExecuteTime": {
     "end_time": "2023-04-01T14:38:42.640460Z",
     "start_time": "2023-04-01T14:38:42.626462Z"
    }
   },
   "outputs": [
    {
     "data": {
      "text/plain": [
       "store                                    int64\n",
       "day_of_week                              int64\n",
       "date                            datetime64[ns]\n",
       "sales                                    int64\n",
       "customers                                int64\n",
       "open                                     int64\n",
       "promo                                    int64\n",
       "state_holiday                           object\n",
       "school_holiday                           int64\n",
       "store_type                              object\n",
       "assortment                              object\n",
       "competition_distance                   float64\n",
       "competition_open_since_month           float64\n",
       "competition_open_since_year            float64\n",
       "promo2                                   int64\n",
       "promo2_since_week                      float64\n",
       "promo2_since_year                      float64\n",
       "promo_interval                          object\n",
       "month_map                               object\n",
       "ispromo                                  int64\n",
       "dtype: object"
      ]
     },
     "execution_count": 16,
     "metadata": {},
     "output_type": "execute_result"
    }
   ],
   "source": [
    "df1.dtypes"
   ]
  },
  {
   "cell_type": "code",
   "execution_count": 17,
   "id": "ea64662e",
   "metadata": {
    "ExecuteTime": {
     "end_time": "2023-04-01T14:38:42.687459Z",
     "start_time": "2023-04-01T14:38:42.642459Z"
    }
   },
   "outputs": [],
   "source": [
    "#Change types to INT\n",
    "df1['competition_open_since_month'] = df1['competition_open_since_month'].astype( 'int64' )\n",
    "df1['competition_open_since_year']  = df1['competition_open_since_year'].astype( 'int64' )\n",
    "df1['promo2_since_week']            = df1['promo2_since_week'].astype( 'int64' )\n",
    "df1['promo2_since_year']            = df1['promo2_since_year'].astype( 'int64' )\n"
   ]
  },
  {
   "cell_type": "markdown",
   "id": "d7135701",
   "metadata": {
    "ExecuteTime": {
     "end_time": "2023-04-01T13:32:24.857904Z",
     "start_time": "2023-04-01T13:32:24.840904Z"
    }
   },
   "source": [
    "##### 3.1.4.6 Descriptive Statistical"
   ]
  },
  {
   "cell_type": "markdown",
   "id": "2261e60c",
   "metadata": {},
   "source": [
    "- **Central Tendency** One number to explain all = mean, median \n",
    "- **Dispersion** Check the spaces/dispersion between the central tendency of the other numbers (near or far of the mean/meadian) = std, min, max, range, skew, kurtosis \n",
    "    - Skew = Deformation on the normal distribuition\n",
    "      - Left Skew = positive\n",
    "      - right Skew = negative\n",
    "    - Kurtosis = How the data is concentrate\n",
    "        - Big Kurtosis = positive numbers\n",
    "        - Small Kurtosis = negative numbers"
   ]
  },
  {
   "cell_type": "code",
   "execution_count": 18,
   "id": "62ca86ef",
   "metadata": {
    "ExecuteTime": {
     "end_time": "2023-04-01T14:38:42.767459Z",
     "start_time": "2023-04-01T14:38:42.689462Z"
    }
   },
   "outputs": [],
   "source": [
    "#Separate the variables in two groups: numerics and categoric\n",
    "\n",
    "num_attributes = df1.select_dtypes( include=['int64','float64'])\n",
    "cat_attributes = df1.select_dtypes( exclude=['int64','float64','datetime64[ns]'])\n"
   ]
  },
  {
   "cell_type": "code",
   "execution_count": 19,
   "id": "9d8890c1",
   "metadata": {
    "ExecuteTime": {
     "end_time": "2023-04-01T14:38:42.798460Z",
     "start_time": "2023-04-01T14:38:42.769459Z"
    }
   },
   "outputs": [
    {
     "data": {
      "text/html": [
       "<div>\n",
       "<style scoped>\n",
       "    .dataframe tbody tr th:only-of-type {\n",
       "        vertical-align: middle;\n",
       "    }\n",
       "\n",
       "    .dataframe tbody tr th {\n",
       "        vertical-align: top;\n",
       "    }\n",
       "\n",
       "    .dataframe thead th {\n",
       "        text-align: right;\n",
       "    }\n",
       "</style>\n",
       "<table border=\"1\" class=\"dataframe\">\n",
       "  <thead>\n",
       "    <tr style=\"text-align: right;\">\n",
       "      <th></th>\n",
       "      <th>store</th>\n",
       "      <th>day_of_week</th>\n",
       "      <th>sales</th>\n",
       "      <th>customers</th>\n",
       "      <th>open</th>\n",
       "      <th>promo</th>\n",
       "      <th>school_holiday</th>\n",
       "      <th>competition_distance</th>\n",
       "      <th>competition_open_since_month</th>\n",
       "      <th>competition_open_since_year</th>\n",
       "      <th>promo2</th>\n",
       "      <th>promo2_since_week</th>\n",
       "      <th>promo2_since_year</th>\n",
       "      <th>ispromo</th>\n",
       "    </tr>\n",
       "  </thead>\n",
       "  <tbody>\n",
       "    <tr>\n",
       "      <th>455574</th>\n",
       "      <td>325</td>\n",
       "      <td>1</td>\n",
       "      <td>7876</td>\n",
       "      <td>747</td>\n",
       "      <td>1</td>\n",
       "      <td>1</td>\n",
       "      <td>0</td>\n",
       "      <td>350.0</td>\n",
       "      <td>3</td>\n",
       "      <td>2011</td>\n",
       "      <td>1</td>\n",
       "      <td>22</td>\n",
       "      <td>2011</td>\n",
       "      <td>1</td>\n",
       "    </tr>\n",
       "    <tr>\n",
       "      <th>526623</th>\n",
       "      <td>14</td>\n",
       "      <td>7</td>\n",
       "      <td>0</td>\n",
       "      <td>0</td>\n",
       "      <td>0</td>\n",
       "      <td>0</td>\n",
       "      <td>0</td>\n",
       "      <td>1300.0</td>\n",
       "      <td>3</td>\n",
       "      <td>2014</td>\n",
       "      <td>1</td>\n",
       "      <td>40</td>\n",
       "      <td>2011</td>\n",
       "      <td>0</td>\n",
       "    </tr>\n",
       "    <tr>\n",
       "      <th>255834</th>\n",
       "      <td>906</td>\n",
       "      <td>4</td>\n",
       "      <td>8541</td>\n",
       "      <td>1044</td>\n",
       "      <td>1</td>\n",
       "      <td>0</td>\n",
       "      <td>0</td>\n",
       "      <td>90.0</td>\n",
       "      <td>7</td>\n",
       "      <td>2010</td>\n",
       "      <td>0</td>\n",
       "      <td>50</td>\n",
       "      <td>2014</td>\n",
       "      <td>0</td>\n",
       "    </tr>\n",
       "    <tr>\n",
       "      <th>177834</th>\n",
       "      <td>550</td>\n",
       "      <td>7</td>\n",
       "      <td>0</td>\n",
       "      <td>0</td>\n",
       "      <td>0</td>\n",
       "      <td>0</td>\n",
       "      <td>0</td>\n",
       "      <td>50.0</td>\n",
       "      <td>6</td>\n",
       "      <td>2015</td>\n",
       "      <td>0</td>\n",
       "      <td>8</td>\n",
       "      <td>2015</td>\n",
       "      <td>0</td>\n",
       "    </tr>\n",
       "    <tr>\n",
       "      <th>643249</th>\n",
       "      <td>680</td>\n",
       "      <td>1</td>\n",
       "      <td>8762</td>\n",
       "      <td>1198</td>\n",
       "      <td>1</td>\n",
       "      <td>1</td>\n",
       "      <td>0</td>\n",
       "      <td>170.0</td>\n",
       "      <td>12</td>\n",
       "      <td>2013</td>\n",
       "      <td>1</td>\n",
       "      <td>35</td>\n",
       "      <td>2012</td>\n",
       "      <td>1</td>\n",
       "    </tr>\n",
       "  </tbody>\n",
       "</table>\n",
       "</div>"
      ],
      "text/plain": [
       "        store  day_of_week  sales  customers  open  promo  school_holiday  competition_distance  competition_open_since_month  competition_open_since_year  promo2  promo2_since_week  promo2_since_year  ispromo\n",
       "455574    325            1   7876        747     1      1               0                 350.0                             3                         2011       1                 22               2011        1\n",
       "526623     14            7      0          0     0      0               0                1300.0                             3                         2014       1                 40               2011        0\n",
       "255834    906            4   8541       1044     1      0               0                  90.0                             7                         2010       0                 50               2014        0\n",
       "177834    550            7      0          0     0      0               0                  50.0                             6                         2015       0                  8               2015        0\n",
       "643249    680            1   8762       1198     1      1               0                 170.0                            12                         2013       1                 35               2012        1"
      ]
     },
     "execution_count": 19,
     "metadata": {},
     "output_type": "execute_result"
    }
   ],
   "source": [
    "num_attributes.sample(5)"
   ]
  },
  {
   "cell_type": "code",
   "execution_count": 20,
   "id": "5d3ad91d",
   "metadata": {
    "ExecuteTime": {
     "end_time": "2023-04-01T14:38:42.830459Z",
     "start_time": "2023-04-01T14:38:42.799460Z"
    }
   },
   "outputs": [
    {
     "data": {
      "text/html": [
       "<div>\n",
       "<style scoped>\n",
       "    .dataframe tbody tr th:only-of-type {\n",
       "        vertical-align: middle;\n",
       "    }\n",
       "\n",
       "    .dataframe tbody tr th {\n",
       "        vertical-align: top;\n",
       "    }\n",
       "\n",
       "    .dataframe thead th {\n",
       "        text-align: right;\n",
       "    }\n",
       "</style>\n",
       "<table border=\"1\" class=\"dataframe\">\n",
       "  <thead>\n",
       "    <tr style=\"text-align: right;\">\n",
       "      <th></th>\n",
       "      <th>state_holiday</th>\n",
       "      <th>store_type</th>\n",
       "      <th>assortment</th>\n",
       "      <th>promo_interval</th>\n",
       "      <th>month_map</th>\n",
       "    </tr>\n",
       "  </thead>\n",
       "  <tbody>\n",
       "    <tr>\n",
       "      <th>146620</th>\n",
       "      <td>0</td>\n",
       "      <td>d</td>\n",
       "      <td>c</td>\n",
       "      <td>0</td>\n",
       "      <td>Mar</td>\n",
       "    </tr>\n",
       "    <tr>\n",
       "      <th>469375</th>\n",
       "      <td>0</td>\n",
       "      <td>d</td>\n",
       "      <td>c</td>\n",
       "      <td>Mar,Jun,Sept,Dec</td>\n",
       "      <td>May</td>\n",
       "    </tr>\n",
       "    <tr>\n",
       "      <th>951884</th>\n",
       "      <td>0</td>\n",
       "      <td>a</td>\n",
       "      <td>a</td>\n",
       "      <td>0</td>\n",
       "      <td>Feb</td>\n",
       "    </tr>\n",
       "    <tr>\n",
       "      <th>421742</th>\n",
       "      <td>a</td>\n",
       "      <td>a</td>\n",
       "      <td>c</td>\n",
       "      <td>Mar,Jun,Sept,Dec</td>\n",
       "      <td>Jun</td>\n",
       "    </tr>\n",
       "    <tr>\n",
       "      <th>463583</th>\n",
       "      <td>0</td>\n",
       "      <td>d</td>\n",
       "      <td>c</td>\n",
       "      <td>0</td>\n",
       "      <td>May</td>\n",
       "    </tr>\n",
       "  </tbody>\n",
       "</table>\n",
       "</div>"
      ],
      "text/plain": [
       "       state_holiday store_type assortment    promo_interval month_map\n",
       "146620             0          d          c                 0       Mar\n",
       "469375             0          d          c  Mar,Jun,Sept,Dec       May\n",
       "951884             0          a          a                 0       Feb\n",
       "421742             a          a          c  Mar,Jun,Sept,Dec       Jun\n",
       "463583             0          d          c                 0       May"
      ]
     },
     "execution_count": 20,
     "metadata": {},
     "output_type": "execute_result"
    }
   ],
   "source": [
    "cat_attributes.sample(5)\n"
   ]
  },
  {
   "cell_type": "markdown",
   "id": "91295343",
   "metadata": {
    "ExecuteTime": {
     "end_time": "2023-04-01T13:32:24.857904Z",
     "start_time": "2023-04-01T13:32:24.840904Z"
    }
   },
   "source": [
    "###### 3.1.4.6.1 Numerical Attributes"
   ]
  },
  {
   "cell_type": "code",
   "execution_count": 21,
   "id": "c4d47d5e",
   "metadata": {
    "ExecuteTime": {
     "end_time": "2023-04-01T14:38:45.498459Z",
     "start_time": "2023-04-01T14:38:42.831655Z"
    }
   },
   "outputs": [
    {
     "data": {
      "text/html": [
       "<div>\n",
       "<style scoped>\n",
       "    .dataframe tbody tr th:only-of-type {\n",
       "        vertical-align: middle;\n",
       "    }\n",
       "\n",
       "    .dataframe tbody tr th {\n",
       "        vertical-align: top;\n",
       "    }\n",
       "\n",
       "    .dataframe thead th {\n",
       "        text-align: right;\n",
       "    }\n",
       "</style>\n",
       "<table border=\"1\" class=\"dataframe\">\n",
       "  <thead>\n",
       "    <tr style=\"text-align: right;\">\n",
       "      <th></th>\n",
       "      <th>Attributes</th>\n",
       "      <th>Min</th>\n",
       "      <th>Max</th>\n",
       "      <th>Range</th>\n",
       "      <th>Mean</th>\n",
       "      <th>Median</th>\n",
       "      <th>STD</th>\n",
       "      <th>Skew</th>\n",
       "      <th>Kurtosis</th>\n",
       "    </tr>\n",
       "  </thead>\n",
       "  <tbody>\n",
       "    <tr>\n",
       "      <th>0</th>\n",
       "      <td>store</td>\n",
       "      <td>1.0</td>\n",
       "      <td>1115.0</td>\n",
       "      <td>1114.0</td>\n",
       "      <td>558.429727</td>\n",
       "      <td>558.0</td>\n",
       "      <td>321.908493</td>\n",
       "      <td>-0.000955</td>\n",
       "      <td>-1.200524</td>\n",
       "    </tr>\n",
       "    <tr>\n",
       "      <th>1</th>\n",
       "      <td>day_of_week</td>\n",
       "      <td>1.0</td>\n",
       "      <td>7.0</td>\n",
       "      <td>6.0</td>\n",
       "      <td>3.998341</td>\n",
       "      <td>4.0</td>\n",
       "      <td>1.997390</td>\n",
       "      <td>0.001593</td>\n",
       "      <td>-1.246873</td>\n",
       "    </tr>\n",
       "    <tr>\n",
       "      <th>2</th>\n",
       "      <td>sales</td>\n",
       "      <td>0.0</td>\n",
       "      <td>41551.0</td>\n",
       "      <td>41551.0</td>\n",
       "      <td>5773.818972</td>\n",
       "      <td>5744.0</td>\n",
       "      <td>3849.924283</td>\n",
       "      <td>0.641460</td>\n",
       "      <td>1.778375</td>\n",
       "    </tr>\n",
       "    <tr>\n",
       "      <th>3</th>\n",
       "      <td>customers</td>\n",
       "      <td>0.0</td>\n",
       "      <td>7388.0</td>\n",
       "      <td>7388.0</td>\n",
       "      <td>633.145946</td>\n",
       "      <td>609.0</td>\n",
       "      <td>464.411506</td>\n",
       "      <td>1.598650</td>\n",
       "      <td>7.091773</td>\n",
       "    </tr>\n",
       "    <tr>\n",
       "      <th>4</th>\n",
       "      <td>open</td>\n",
       "      <td>0.0</td>\n",
       "      <td>1.0</td>\n",
       "      <td>1.0</td>\n",
       "      <td>0.830107</td>\n",
       "      <td>1.0</td>\n",
       "      <td>0.375539</td>\n",
       "      <td>-1.758045</td>\n",
       "      <td>1.090723</td>\n",
       "    </tr>\n",
       "    <tr>\n",
       "      <th>5</th>\n",
       "      <td>promo</td>\n",
       "      <td>0.0</td>\n",
       "      <td>1.0</td>\n",
       "      <td>1.0</td>\n",
       "      <td>0.381515</td>\n",
       "      <td>0.0</td>\n",
       "      <td>0.485758</td>\n",
       "      <td>0.487838</td>\n",
       "      <td>-1.762018</td>\n",
       "    </tr>\n",
       "    <tr>\n",
       "      <th>6</th>\n",
       "      <td>school_holiday</td>\n",
       "      <td>0.0</td>\n",
       "      <td>1.0</td>\n",
       "      <td>1.0</td>\n",
       "      <td>0.178647</td>\n",
       "      <td>0.0</td>\n",
       "      <td>0.383056</td>\n",
       "      <td>1.677842</td>\n",
       "      <td>0.815154</td>\n",
       "    </tr>\n",
       "    <tr>\n",
       "      <th>7</th>\n",
       "      <td>competition_distance</td>\n",
       "      <td>20.0</td>\n",
       "      <td>200000.0</td>\n",
       "      <td>199980.0</td>\n",
       "      <td>5935.442677</td>\n",
       "      <td>2330.0</td>\n",
       "      <td>12547.646829</td>\n",
       "      <td>10.242344</td>\n",
       "      <td>147.789712</td>\n",
       "    </tr>\n",
       "    <tr>\n",
       "      <th>8</th>\n",
       "      <td>competition_open_since_month</td>\n",
       "      <td>1.0</td>\n",
       "      <td>12.0</td>\n",
       "      <td>11.0</td>\n",
       "      <td>6.786849</td>\n",
       "      <td>7.0</td>\n",
       "      <td>3.311085</td>\n",
       "      <td>-0.042076</td>\n",
       "      <td>-1.232607</td>\n",
       "    </tr>\n",
       "    <tr>\n",
       "      <th>9</th>\n",
       "      <td>competition_open_since_year</td>\n",
       "      <td>1900.0</td>\n",
       "      <td>2015.0</td>\n",
       "      <td>115.0</td>\n",
       "      <td>2010.324840</td>\n",
       "      <td>2012.0</td>\n",
       "      <td>5.515591</td>\n",
       "      <td>-7.235657</td>\n",
       "      <td>124.071304</td>\n",
       "    </tr>\n",
       "    <tr>\n",
       "      <th>10</th>\n",
       "      <td>promo2</td>\n",
       "      <td>0.0</td>\n",
       "      <td>1.0</td>\n",
       "      <td>1.0</td>\n",
       "      <td>0.500564</td>\n",
       "      <td>1.0</td>\n",
       "      <td>0.500000</td>\n",
       "      <td>-0.002255</td>\n",
       "      <td>-1.999999</td>\n",
       "    </tr>\n",
       "    <tr>\n",
       "      <th>11</th>\n",
       "      <td>promo2_since_week</td>\n",
       "      <td>1.0</td>\n",
       "      <td>52.0</td>\n",
       "      <td>51.0</td>\n",
       "      <td>23.619033</td>\n",
       "      <td>22.0</td>\n",
       "      <td>14.310057</td>\n",
       "      <td>0.178723</td>\n",
       "      <td>-1.184046</td>\n",
       "    </tr>\n",
       "    <tr>\n",
       "      <th>12</th>\n",
       "      <td>promo2_since_year</td>\n",
       "      <td>2009.0</td>\n",
       "      <td>2015.0</td>\n",
       "      <td>6.0</td>\n",
       "      <td>2012.793297</td>\n",
       "      <td>2013.0</td>\n",
       "      <td>1.662657</td>\n",
       "      <td>-0.784436</td>\n",
       "      <td>-0.210075</td>\n",
       "    </tr>\n",
       "    <tr>\n",
       "      <th>13</th>\n",
       "      <td>ispromo</td>\n",
       "      <td>0.0</td>\n",
       "      <td>1.0</td>\n",
       "      <td>1.0</td>\n",
       "      <td>0.165966</td>\n",
       "      <td>0.0</td>\n",
       "      <td>0.372050</td>\n",
       "      <td>1.795644</td>\n",
       "      <td>1.224338</td>\n",
       "    </tr>\n",
       "  </tbody>\n",
       "</table>\n",
       "</div>"
      ],
      "text/plain": [
       "                      Attributes     Min       Max     Range         Mean  Median           STD       Skew    Kurtosis\n",
       "0                          store     1.0    1115.0    1114.0   558.429727   558.0    321.908493  -0.000955   -1.200524\n",
       "1                    day_of_week     1.0       7.0       6.0     3.998341     4.0      1.997390   0.001593   -1.246873\n",
       "2                          sales     0.0   41551.0   41551.0  5773.818972  5744.0   3849.924283   0.641460    1.778375\n",
       "3                      customers     0.0    7388.0    7388.0   633.145946   609.0    464.411506   1.598650    7.091773\n",
       "4                           open     0.0       1.0       1.0     0.830107     1.0      0.375539  -1.758045    1.090723\n",
       "5                          promo     0.0       1.0       1.0     0.381515     0.0      0.485758   0.487838   -1.762018\n",
       "6                 school_holiday     0.0       1.0       1.0     0.178647     0.0      0.383056   1.677842    0.815154\n",
       "7           competition_distance    20.0  200000.0  199980.0  5935.442677  2330.0  12547.646829  10.242344  147.789712\n",
       "8   competition_open_since_month     1.0      12.0      11.0     6.786849     7.0      3.311085  -0.042076   -1.232607\n",
       "9    competition_open_since_year  1900.0    2015.0     115.0  2010.324840  2012.0      5.515591  -7.235657  124.071304\n",
       "10                        promo2     0.0       1.0       1.0     0.500564     1.0      0.500000  -0.002255   -1.999999\n",
       "11             promo2_since_week     1.0      52.0      51.0    23.619033    22.0     14.310057   0.178723   -1.184046\n",
       "12             promo2_since_year  2009.0    2015.0       6.0  2012.793297  2013.0      1.662657  -0.784436   -0.210075\n",
       "13                       ispromo     0.0       1.0       1.0     0.165966     0.0      0.372050   1.795644    1.224338"
      ]
     },
     "execution_count": 21,
     "metadata": {},
     "output_type": "execute_result"
    }
   ],
   "source": [
    "#Central Tendency = mean, median \n",
    "ct1 = pd.DataFrame( num_attributes.apply( np.mean ) ).T\n",
    "ct2 = pd.DataFrame( num_attributes.apply( np.median ) ).T\n",
    "\n",
    "#Dispersion = std, min, max, range, skew, kurtosis \n",
    "\n",
    "d1 = pd.DataFrame (num_attributes.apply( np.std )).T\n",
    "d2 = pd.DataFrame (num_attributes.apply( min )).T\n",
    "d3 = pd.DataFrame (num_attributes.apply( max )).T\n",
    "d4 = pd.DataFrame (num_attributes.apply( lambda x: x.max() - x.min() )).T\n",
    "d5 = pd.DataFrame (num_attributes.apply( lambda x: x.skew() ) ).T\n",
    "d6 = pd.DataFrame (num_attributes.apply( lambda x: x.kurtosis() )).T\n",
    "\n",
    "#concatenate\n",
    "\n",
    "m = pd.concat( [d2, d3, d4, ct1, ct2, d1, d5, d6] ).T.reset_index()\n",
    "m.columns = ['Attributes', 'Min', 'Max', 'Range', 'Mean', 'Median', 'STD', 'Skew', 'Kurtosis' ]\n",
    "m"
   ]
  },
  {
   "cell_type": "code",
   "execution_count": 22,
   "id": "e79202ff",
   "metadata": {
    "ExecuteTime": {
     "end_time": "2023-04-01T14:38:47.026458Z",
     "start_time": "2023-04-01T14:38:45.499460Z"
    }
   },
   "outputs": [
    {
     "data": {
      "text/plain": [
       "<seaborn.axisgrid.FacetGrid at 0x24915a9b6d0>"
      ]
     },
     "execution_count": 22,
     "metadata": {},
     "output_type": "execute_result"
    },
    {
     "data": {
      "image/png": "[encoded data removed]",
      "text/plain": [
       "<Figure size 500x500 with 1 Axes>"
      ]
     },
     "metadata": {},
     "output_type": "display_data"
    }
   ],
   "source": [
    "#Graph example\n",
    "sns.displot(df1['sales'])"
   ]
  },
  {
   "cell_type": "markdown",
   "id": "09fd9086",
   "metadata": {
    "ExecuteTime": {
     "end_time": "2023-04-01T13:32:24.857904Z",
     "start_time": "2023-04-01T13:32:24.840904Z"
    }
   },
   "source": [
    "###### 3.1.4.6.2 Categorical Attributes"
   ]
  },
  {
   "cell_type": "code",
   "execution_count": 23,
   "id": "81183329",
   "metadata": {
    "ExecuteTime": {
     "end_time": "2023-04-01T14:38:47.168459Z",
     "start_time": "2023-04-01T14:38:47.028461Z"
    }
   },
   "outputs": [
    {
     "data": {
      "text/plain": [
       "state_holiday      4\n",
       "store_type         4\n",
       "assortment         3\n",
       "promo_interval     4\n",
       "month_map         12\n",
       "dtype: int64"
      ]
     },
     "execution_count": 23,
     "metadata": {},
     "output_type": "execute_result"
    }
   ],
   "source": [
    "#Total unique values \n",
    "cat_attributes.apply( lambda x: x.unique().shape[0] )"
   ]
  },
  {
   "cell_type": "code",
   "execution_count": 25,
   "id": "80ec594e",
   "metadata": {
    "ExecuteTime": {
     "end_time": "2023-04-01T14:41:42.166578Z",
     "start_time": "2023-04-01T14:41:41.676581Z"
    }
   },
   "outputs": [
    {
     "data": {
      "text/plain": [
       "<Axes: xlabel='assortment', ylabel='sales'>"
      ]
     },
     "execution_count": 25,
     "metadata": {},
     "output_type": "execute_result"
    },
    {
     "data": {
      "image/png": "[encoded data removed]",
      "text/plain": [
       "<Figure size 2500x1200 with 3 Axes>"
      ]
     },
     "metadata": {},
     "output_type": "display_data"
    }
   ],
   "source": [
    "#Remove the closed stores and no sales\n",
    "aux1 = df1[ (df1['state_holiday'] != '0') & (df1['sales'] > 0) ]\n",
    "\n",
    "#1 rows, 3 columns, 1st position\n",
    "plt.subplot(1,3,1)\n",
    "sns.boxplot(x='state_holiday', y='sales', data=aux1)\n",
    "\n",
    "#1 rows, 3 columns, 2nd position\n",
    "plt.subplot(1,3,2)\n",
    "sns.boxplot(x='store_type', y='sales', data=aux1)\n",
    "\n",
    "#1 rows, 3 columns, 3th position\n",
    "plt.subplot(1,3,3)\n",
    "sns.boxplot(x='assortment', y='sales', data=aux1)\n",
    "\n",
    "\n",
    "##important##\n",
    "#Outliers = 3x STD"
   ]
  },
  {
   "cell_type": "code",
   "execution_count": null,
   "id": "2bc8fea9",
   "metadata": {},
   "outputs": [],
   "source": [
    "\n"
   ]
  },
  {
   "cell_type": "code",
   "execution_count": null,
   "id": "7505ffd4",
   "metadata": {},
   "outputs": [],
   "source": []
  },
  {
   "cell_type": "code",
   "execution_count": null,
   "id": "d0e1137e",
   "metadata": {},
   "outputs": [],
   "source": []
  },
  {
   "cell_type": "code",
   "execution_count": null,
   "id": "ed479c13",
   "metadata": {},
   "outputs": [],
   "source": []
  },
  {
   "cell_type": "code",
   "execution_count": null,
   "id": "386247eb",
   "metadata": {},
   "outputs": [],
   "source": []
  },
  {
   "cell_type": "code",
   "execution_count": null,
   "id": "db871255",
   "metadata": {},
   "outputs": [],
   "source": []
  },
  {
   "cell_type": "code",
   "execution_count": null,
   "id": "d8bebab2",
   "metadata": {},
   "outputs": [],
   "source": []
  },
  {
   "cell_type": "code",
   "execution_count": null,
   "id": "534d51a2",
   "metadata": {},
   "outputs": [],
   "source": []
  },
  {
   "cell_type": "code",
   "execution_count": null,
   "id": "2056bcfc",
   "metadata": {},
   "outputs": [],
   "source": []
  },
  {
   "cell_type": "code",
   "execution_count": null,
   "id": "6713821d",
   "metadata": {},
   "outputs": [],
   "source": []
  },
  {
   "cell_type": "code",
   "execution_count": null,
   "id": "69f7fc27",
   "metadata": {},
   "outputs": [],
   "source": []
  },
  {
   "cell_type": "code",
   "execution_count": null,
   "id": "597564a3",
   "metadata": {},
   "outputs": [],
   "source": []
  },
  {
   "cell_type": "code",
   "execution_count": null,
   "id": "b8aeccd8",
   "metadata": {},
   "outputs": [],
   "source": []
  },
  {
   "cell_type": "code",
   "execution_count": null,
   "id": "9140c8b2",
   "metadata": {},
   "outputs": [],
   "source": []
  },
  {
   "cell_type": "code",
   "execution_count": null,
   "id": "582acc37",
   "metadata": {},
   "outputs": [],
   "source": []
  },
  {
   "cell_type": "code",
   "execution_count": null,
   "id": "7ee46ba5",
   "metadata": {},
   "outputs": [],
   "source": []
  },
  {
   "cell_type": "code",
   "execution_count": null,
   "id": "177412f7",
   "metadata": {},
   "outputs": [],
   "source": []
  },
  {
   "cell_type": "code",
   "execution_count": null,
   "id": "b08bee6d",
   "metadata": {},
   "outputs": [],
   "source": []
  },
  {
   "cell_type": "code",
   "execution_count": null,
   "id": "3902a03a",
   "metadata": {},
   "outputs": [],
   "source": []
  },
  {
   "cell_type": "code",
   "execution_count": null,
   "id": "17c258d7",
   "metadata": {},
   "outputs": [],
   "source": []
  },
  {
   "cell_type": "code",
   "execution_count": null,
   "id": "94d682a3",
   "metadata": {},
   "outputs": [],
   "source": []
  },
  {
   "cell_type": "code",
   "execution_count": null,
   "id": "1573bf57",
   "metadata": {},
   "outputs": [],
   "source": []
  },
  {
   "cell_type": "code",
   "execution_count": null,
   "id": "e5300a48",
   "metadata": {},
   "outputs": [],
   "source": []
  },
  {
   "cell_type": "code",
   "execution_count": null,
   "id": "3ef2f5e7",
   "metadata": {},
   "outputs": [],
   "source": []
  },
  {
   "cell_type": "code",
   "execution_count": null,
   "id": "87a3c557",
   "metadata": {},
   "outputs": [],
   "source": []
  },
  {
   "cell_type": "code",
   "execution_count": null,
   "id": "aed32dc8",
   "metadata": {},
   "outputs": [],
   "source": []
  },
  {
   "cell_type": "code",
   "execution_count": null,
   "id": "22c9cdc5",
   "metadata": {},
   "outputs": [],
   "source": []
  },
  {
   "cell_type": "code",
   "execution_count": null,
   "id": "d56e4f30",
   "metadata": {},
   "outputs": [],
   "source": []
  },
  {
   "cell_type": "code",
   "execution_count": null,
   "id": "cb18a0b7",
   "metadata": {},
   "outputs": [],
   "source": []
  },
  {
   "cell_type": "code",
   "execution_count": null,
   "id": "8f79b77a",
   "metadata": {},
   "outputs": [],
   "source": []
  },
  {
   "cell_type": "code",
   "execution_count": null,
   "id": "a60386ef",
   "metadata": {},
   "outputs": [],
   "source": []
  },
  {
   "cell_type": "code",
   "execution_count": null,
   "id": "9e5069b4",
   "metadata": {},
   "outputs": [],
   "source": []
  },
  {
   "cell_type": "code",
   "execution_count": null,
   "id": "6f5b5e9b",
   "metadata": {},
   "outputs": [],
   "source": []
  },
  {
   "cell_type": "code",
   "execution_count": null,
   "id": "95277309",
   "metadata": {},
   "outputs": [],
   "source": []
  }
 ],
 "metadata": {
  "kernelspec": {
   "display_name": "Python 3 (ipykernel)",
   "language": "python",
   "name": "python3"
  },
  "language_info": {
   "codemirror_mode": {
    "name": "ipython",
    "version": 3
   },
   "file_extension": ".py",
   "mimetype": "text/x-python",
   "name": "python",
   "nbconvert_exporter": "python",
   "pygments_lexer": "ipython3",
   "version": "3.8.8"
  },
  "varInspector": {
   "cols": {
    "lenName": 16,
    "lenType": 16,
    "lenVar": 40
   },
   "kernels_config": {
    "python": {
     "delete_cmd_postfix": "",
     "delete_cmd_prefix": "del ",
     "library": "var_list.py",
     "varRefreshCmd": "print(var_dic_list())"
    },
    "r": {
     "delete_cmd_postfix": ") ",
     "delete_cmd_prefix": "rm(",
     "library": "var_list.r",
     "varRefreshCmd": "cat(var_dic_list()) "
    }
   },
   "types_to_exclude": [
    "module",
    "function",
    "builtin_function_or_method",
    "instance",
    "_Feature"
   ],
   "window_display": false
  }
 },
 "nbformat": 4,
 "nbformat_minor": 5
}
