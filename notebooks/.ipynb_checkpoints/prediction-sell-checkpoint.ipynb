{
 "cells": [
  {
   "cell_type": "markdown",
   "id": "591966f3",
   "metadata": {},
   "source": [
    "# Prediction - Store Sales"
   ]
  },
  {
   "cell_type": "markdown",
   "id": "b1d104b1",
   "metadata": {},
   "source": [
    "# 1.0 Overview"
   ]
  },
  {
   "cell_type": "markdown",
   "id": "ff2ca661",
   "metadata": {
    "heading_collapsed": true
   },
   "source": [
    "### 1.1 Overview\n",
    "\n",
    "Rossmann operates over 3,000 drug stores in 7 European countries. Currently, Rossmann store managers are tasked with predicting their daily sales for up to six weeks in advance. Store sales are influenced by many factors, including promotions, competition, school and state holidays, seasonality, and locality. With thousands of individual managers predicting sales based on their unique circumstances, the accuracy of results can be quite varied.\n",
    "\n",
    "reference: https://www.kaggle.com/competitions/rossmann-store-sales/data"
   ]
  },
  {
   "cell_type": "markdown",
   "id": "7df0fe36",
   "metadata": {},
   "source": [
    "### 1.1.2 CRISP - DS"
   ]
  },
  {
   "cell_type": "markdown",
   "id": "c30a0fe1",
   "metadata": {},
   "source": [
    "CRoss-Industry Process - Data Science\n",
    "\n",
    "- Development Cicle Method \n",
    "   - Do the same process many times to improve the prediction in each cicle.\n",
    "   - In each end-to-end cicle have a version with the solution.\n",
    "   - Velocity to delivery values.\n",
    "   - Mapping all possibibles problems.\n",
    "   "
   ]
  },
  {
   "cell_type": "markdown",
   "id": "ede4bad7",
   "metadata": {},
   "source": [
    "#### 1.1.2.1 CRISP Steps"
   ]
  },
  {
   "cell_type": "markdown",
   "id": "bca46e0e",
   "metadata": {},
   "source": [
    "1. Business questions - Try to solve problems with all areas and people.\n",
    "2. Understand the Business - What's the poeple want? Normally the people give the solution, and we need to discover the \"pain\" of this person/business\n",
    "3. Data Collect - From Databases, API, Files...\n",
    "4. Data Clean - Keep a \"stadard\" data and remove dirty data, fillout NA's...\n",
    "5. Data Exploration - What's the variable will impact the model(the result). Find the correlation between the fields.\n",
    "6. Data Modeling - Prepare the data to put into the ML code (train and test, encoding, transform data, answer data...)\n",
    "7. Apply ML \n",
    "8. Algoritimun Accuracy - Calculate the errors using ML's/Statistics (MAP, RME, MAPE, RMSE, ROCK, ACCURACY, TRUE TABLE...)\n",
    "\n",
    "After the step 8º you and the team can see that the accuracy of the FIRST model will impact well the solution (normally not happen after the first cicle), we can put the MODEL in production, if not, start the other CICLE in STEP 2.\n",
    "\n",
    "**IMPORTANT** you not back on the step 1 because the problem will be YOU, and we need to decide and change the steps 2º to 8º."
   ]
  },
  {
   "cell_type": "markdown",
   "id": "2e79fc95",
   "metadata": {
    "ExecuteTime": {
     "end_time": "2023-03-30T18:23:46.073087Z",
     "start_time": "2023-03-30T18:23:46.061086Z"
    },
    "heading_collapsed": true
   },
   "source": [
    "#### 1.1.2.2 Business Questions\n",
    "\n",
    "What's the sales value of each store in the next 6 weeks?"
   ]
  },
  {
   "cell_type": "markdown",
   "id": "9b6a67dc",
   "metadata": {
    "ExecuteTime": {
     "end_time": "2023-03-30T18:23:46.073087Z",
     "start_time": "2023-03-30T18:23:46.061086Z"
    },
    "heading_collapsed": true
   },
   "source": [
    "#### 1.1.2.3 Understand the Business\n",
    "\n",
    "- **What's the motivation to do this?** CFO (Chief Financial Officer) has requested the prediction of sales at the monthly meeting about the stores results.\n",
    "- **What's the main cause of the problem?** Difficult to understand the value of investment to renovate each store.\n",
    "- **Who is the stakeholder of the problem?** Director Finance (CFO) of Rossmann\n",
    "- **What's the solution/product format that will be delivered?**\n",
    "    - Granularity: Prediction sell per day and store on the next 42 days (6 weeks).\n",
    "    - Problem type: Forecast sell .\n",
    "    - Potencials Methods: Temporal series, regression with modifications.\n",
    "    - Product/solution format: Check on the phone the total salles in each store on the final of the 6 weeks"
   ]
  },
  {
   "cell_type": "markdown",
   "id": "fbe6a8eb",
   "metadata": {},
   "source": [
    "# 2.0 IMPORTS"
   ]
  },
  {
   "cell_type": "code",
   "execution_count": 15,
   "id": "ab7a6a37",
   "metadata": {
    "ExecuteTime": {
     "end_time": "2023-04-01T11:31:25.321663Z",
     "start_time": "2023-04-01T11:31:25.303673Z"
    }
   },
   "outputs": [],
   "source": [
    "import pandas as pd\n",
    "import inflection\n",
    "import math"
   ]
  },
  {
   "cell_type": "markdown",
   "id": "fa9bb0cb",
   "metadata": {},
   "source": [
    "# 3.0 Data clean"
   ]
  },
  {
   "cell_type": "markdown",
   "id": "7de906ac",
   "metadata": {
    "ExecuteTime": {
     "end_time": "2023-03-29T19:35:16.539268Z",
     "start_time": "2023-03-29T19:35:15.460155Z"
    }
   },
   "source": [
    "- **Why Data Description?**\n",
    "    - **How challenger is the problem im working?**\n",
    "    - **What's the duration of this problem?**\n",
    "        - Years?\n",
    "        - Months?\n",
    "        - Days?\n",
    "    - **What's the quantity of the data?**\n",
    "        - I have the enought resourcing to work?\n",
    "            - I need servers to process the data?\n",
    "            - Clusters?\n",
    "            - Spark?\n",
    "            - Hadoop?\n",
    "    - **What's the variable types (will help to decide the techniques to apply):**\n",
    "        - % Numeric?\n",
    "        - % Categories?\n",
    "        - % Temporal?\n",
    "    - **What's the NA(non-applicable/empty) data?**\n",
    "        - NA's volume\n",
    "        - What's the reazon of this NA's? \n",
    "            - I can do the job?\n",
    "            - How I will reaplace the data?\n",
    "            - I can replace or delete the data?\n",
    "            - **details** sometimes the system isn't recording the data, the input is manually.\n",
    "    - **Data summary:**\n",
    "        - Describe stats.\n",
    "        - Get the limits, minimum, maximun, STD, mean...\n",
    "        \n",
    "    "
   ]
  },
  {
   "cell_type": "markdown",
   "id": "823f2568",
   "metadata": {
    "heading_collapsed": true
   },
   "source": [
    "### 3.0.1 Helper Functions"
   ]
  },
  {
   "cell_type": "code",
   "execution_count": null,
   "id": "534fa5ec",
   "metadata": {
    "hidden": true
   },
   "outputs": [],
   "source": []
  },
  {
   "cell_type": "markdown",
   "id": "aeac0be2",
   "metadata": {
    "heading_collapsed": true
   },
   "source": [
    "### 3.0.2 Loading Data"
   ]
  },
  {
   "cell_type": "code",
   "execution_count": 2,
   "id": "ca19f756",
   "metadata": {
    "ExecuteTime": {
     "end_time": "2023-04-01T11:19:31.421926Z",
     "start_time": "2023-04-01T11:19:30.658927Z"
    },
    "hidden": true
   },
   "outputs": [],
   "source": [
    "df_sales_raw = pd.read_csv( '../data/train.csv', low_memory=False )\n",
    "df_store_raw = pd.read_csv( '../data/store.csv', low_memory=False )\n",
    "\n",
    "# Merge the both raw data\n",
    "# merge(reference_table, merged_table, type of merge, column key equal in both tables )\n",
    "df_raw = pd.merge(df_sales_raw, df_store_raw, how=\"left\", on=\"Store\")"
   ]
  },
  {
   "cell_type": "code",
   "execution_count": 3,
   "id": "3681d9b6",
   "metadata": {
    "ExecuteTime": {
     "end_time": "2023-04-01T11:19:31.469925Z",
     "start_time": "2023-04-01T11:19:31.423925Z"
    },
    "hidden": true
   },
   "outputs": [
    {
     "data": {
      "text/html": [
       "<div>\n",
       "<style scoped>\n",
       "    .dataframe tbody tr th:only-of-type {\n",
       "        vertical-align: middle;\n",
       "    }\n",
       "\n",
       "    .dataframe tbody tr th {\n",
       "        vertical-align: top;\n",
       "    }\n",
       "\n",
       "    .dataframe thead th {\n",
       "        text-align: right;\n",
       "    }\n",
       "</style>\n",
       "<table border=\"1\" class=\"dataframe\">\n",
       "  <thead>\n",
       "    <tr style=\"text-align: right;\">\n",
       "      <th></th>\n",
       "      <th>Store</th>\n",
       "      <th>DayOfWeek</th>\n",
       "      <th>Date</th>\n",
       "      <th>Sales</th>\n",
       "      <th>Customers</th>\n",
       "      <th>Open</th>\n",
       "      <th>Promo</th>\n",
       "      <th>StateHoliday</th>\n",
       "      <th>SchoolHoliday</th>\n",
       "    </tr>\n",
       "  </thead>\n",
       "  <tbody>\n",
       "    <tr>\n",
       "      <th>166346</th>\n",
       "      <td>212</td>\n",
       "      <td>3</td>\n",
       "      <td>2015-03-04</td>\n",
       "      <td>4888</td>\n",
       "      <td>460</td>\n",
       "      <td>1</td>\n",
       "      <td>1</td>\n",
       "      <td>0</td>\n",
       "      <td>0</td>\n",
       "    </tr>\n",
       "  </tbody>\n",
       "</table>\n",
       "</div>"
      ],
      "text/plain": [
       "        Store  DayOfWeek        Date  Sales  Customers  Open  Promo  \\\n",
       "166346    212          3  2015-03-04   4888        460     1      1   \n",
       "\n",
       "       StateHoliday  SchoolHoliday  \n",
       "166346            0              0  "
      ]
     },
     "execution_count": 3,
     "metadata": {},
     "output_type": "execute_result"
    }
   ],
   "source": [
    "#Sample of sales data\n",
    "df_sales_raw.sample()"
   ]
  },
  {
   "cell_type": "code",
   "execution_count": 4,
   "id": "a1cc91dc",
   "metadata": {
    "ExecuteTime": {
     "end_time": "2023-04-01T11:19:31.485926Z",
     "start_time": "2023-04-01T11:19:31.471927Z"
    },
    "hidden": true
   },
   "outputs": [
    {
     "data": {
      "text/html": [
       "<div>\n",
       "<style scoped>\n",
       "    .dataframe tbody tr th:only-of-type {\n",
       "        vertical-align: middle;\n",
       "    }\n",
       "\n",
       "    .dataframe tbody tr th {\n",
       "        vertical-align: top;\n",
       "    }\n",
       "\n",
       "    .dataframe thead th {\n",
       "        text-align: right;\n",
       "    }\n",
       "</style>\n",
       "<table border=\"1\" class=\"dataframe\">\n",
       "  <thead>\n",
       "    <tr style=\"text-align: right;\">\n",
       "      <th></th>\n",
       "      <th>Store</th>\n",
       "      <th>StoreType</th>\n",
       "      <th>Assortment</th>\n",
       "      <th>CompetitionDistance</th>\n",
       "      <th>CompetitionOpenSinceMonth</th>\n",
       "      <th>CompetitionOpenSinceYear</th>\n",
       "      <th>Promo2</th>\n",
       "      <th>Promo2SinceWeek</th>\n",
       "      <th>Promo2SinceYear</th>\n",
       "      <th>PromoInterval</th>\n",
       "    </tr>\n",
       "  </thead>\n",
       "  <tbody>\n",
       "    <tr>\n",
       "      <th>431</th>\n",
       "      <td>432</td>\n",
       "      <td>a</td>\n",
       "      <td>a</td>\n",
       "      <td>810.0</td>\n",
       "      <td>5.0</td>\n",
       "      <td>2013.0</td>\n",
       "      <td>0</td>\n",
       "      <td>NaN</td>\n",
       "      <td>NaN</td>\n",
       "      <td>NaN</td>\n",
       "    </tr>\n",
       "  </tbody>\n",
       "</table>\n",
       "</div>"
      ],
      "text/plain": [
       "     Store StoreType Assortment  CompetitionDistance  \\\n",
       "431    432         a          a                810.0   \n",
       "\n",
       "     CompetitionOpenSinceMonth  CompetitionOpenSinceYear  Promo2  \\\n",
       "431                        5.0                    2013.0       0   \n",
       "\n",
       "     Promo2SinceWeek  Promo2SinceYear PromoInterval  \n",
       "431              NaN              NaN           NaN  "
      ]
     },
     "execution_count": 4,
     "metadata": {},
     "output_type": "execute_result"
    }
   ],
   "source": [
    "#Sample of store data\n",
    "df_store_raw.sample()"
   ]
  },
  {
   "cell_type": "code",
   "execution_count": 5,
   "id": "9161861c",
   "metadata": {
    "ExecuteTime": {
     "end_time": "2023-04-01T11:19:31.611925Z",
     "start_time": "2023-04-01T11:19:31.487927Z"
    },
    "hidden": true
   },
   "outputs": [
    {
     "data": {
      "text/html": [
       "<div>\n",
       "<style scoped>\n",
       "    .dataframe tbody tr th:only-of-type {\n",
       "        vertical-align: middle;\n",
       "    }\n",
       "\n",
       "    .dataframe tbody tr th {\n",
       "        vertical-align: top;\n",
       "    }\n",
       "\n",
       "    .dataframe thead th {\n",
       "        text-align: right;\n",
       "    }\n",
       "</style>\n",
       "<table border=\"1\" class=\"dataframe\">\n",
       "  <thead>\n",
       "    <tr style=\"text-align: right;\">\n",
       "      <th></th>\n",
       "      <th>Store</th>\n",
       "      <th>DayOfWeek</th>\n",
       "      <th>Date</th>\n",
       "      <th>Sales</th>\n",
       "      <th>Customers</th>\n",
       "      <th>Open</th>\n",
       "      <th>Promo</th>\n",
       "      <th>StateHoliday</th>\n",
       "      <th>SchoolHoliday</th>\n",
       "      <th>StoreType</th>\n",
       "      <th>Assortment</th>\n",
       "      <th>CompetitionDistance</th>\n",
       "      <th>CompetitionOpenSinceMonth</th>\n",
       "      <th>CompetitionOpenSinceYear</th>\n",
       "      <th>Promo2</th>\n",
       "      <th>Promo2SinceWeek</th>\n",
       "      <th>Promo2SinceYear</th>\n",
       "      <th>PromoInterval</th>\n",
       "    </tr>\n",
       "  </thead>\n",
       "  <tbody>\n",
       "    <tr>\n",
       "      <th>120939</th>\n",
       "      <td>520</td>\n",
       "      <td>2</td>\n",
       "      <td>2015-04-14</td>\n",
       "      <td>4389</td>\n",
       "      <td>434</td>\n",
       "      <td>1</td>\n",
       "      <td>1</td>\n",
       "      <td>0</td>\n",
       "      <td>1</td>\n",
       "      <td>a</td>\n",
       "      <td>c</td>\n",
       "      <td>6900.0</td>\n",
       "      <td>NaN</td>\n",
       "      <td>NaN</td>\n",
       "      <td>1</td>\n",
       "      <td>40.0</td>\n",
       "      <td>2012.0</td>\n",
       "      <td>Mar,Jun,Sept,Dec</td>\n",
       "    </tr>\n",
       "  </tbody>\n",
       "</table>\n",
       "</div>"
      ],
      "text/plain": [
       "        Store  DayOfWeek        Date  Sales  Customers  Open  Promo  \\\n",
       "120939    520          2  2015-04-14   4389        434     1      1   \n",
       "\n",
       "       StateHoliday  SchoolHoliday StoreType Assortment  CompetitionDistance  \\\n",
       "120939            0              1         a          c               6900.0   \n",
       "\n",
       "        CompetitionOpenSinceMonth  CompetitionOpenSinceYear  Promo2  \\\n",
       "120939                        NaN                       NaN       1   \n",
       "\n",
       "        Promo2SinceWeek  Promo2SinceYear     PromoInterval  \n",
       "120939             40.0           2012.0  Mar,Jun,Sept,Dec  "
      ]
     },
     "execution_count": 5,
     "metadata": {},
     "output_type": "execute_result"
    }
   ],
   "source": [
    "#Sample of sales data\n",
    "df_raw.sample()"
   ]
  },
  {
   "cell_type": "markdown",
   "id": "313aef32",
   "metadata": {},
   "source": [
    "## 3.1 DATA DESCRIPTION"
   ]
  },
  {
   "cell_type": "markdown",
   "id": "611f7cfd",
   "metadata": {},
   "source": [
    "#### 3.1.1 Rename Columns"
   ]
  },
  {
   "cell_type": "code",
   "execution_count": 62,
   "id": "5d63ae42",
   "metadata": {
    "ExecuteTime": {
     "end_time": "2023-04-01T12:09:11.393370Z",
     "start_time": "2023-04-01T12:09:11.350887Z"
    }
   },
   "outputs": [],
   "source": [
    "#Copy to keep the raw data.\n",
    "df1 = df_raw.copy()"
   ]
  },
  {
   "cell_type": "code",
   "execution_count": 63,
   "id": "e2576b40",
   "metadata": {
    "ExecuteTime": {
     "end_time": "2023-04-01T12:09:12.409442Z",
     "start_time": "2023-04-01T12:09:12.393444Z"
    }
   },
   "outputs": [
    {
     "data": {
      "text/plain": [
       "Index(['Store', 'DayOfWeek', 'Date', 'Sales', 'Customers', 'Open', 'Promo',\n",
       "       'StateHoliday', 'SchoolHoliday', 'StoreType', 'Assortment',\n",
       "       'CompetitionDistance', 'CompetitionOpenSinceMonth',\n",
       "       'CompetitionOpenSinceYear', 'Promo2', 'Promo2SinceWeek',\n",
       "       'Promo2SinceYear', 'PromoInterval'],\n",
       "      dtype='object')"
      ]
     },
     "execution_count": 63,
     "metadata": {},
     "output_type": "execute_result"
    }
   ],
   "source": [
    "#Show the columns name\n",
    "df1.columns"
   ]
  },
  {
   "cell_type": "code",
   "execution_count": 64,
   "id": "a8401ac5",
   "metadata": {
    "ExecuteTime": {
     "end_time": "2023-04-01T12:09:13.191025Z",
     "start_time": "2023-04-01T12:09:13.173026Z"
    }
   },
   "outputs": [
    {
     "data": {
      "text/plain": [
       "Index(['store', 'day_of_week', 'date', 'sales', 'customers', 'open', 'promo',\n",
       "       'state_holiday', 'school_holiday', 'store_type', 'assortment',\n",
       "       'competition_distance', 'competition_open_since_month',\n",
       "       'competition_open_since_year', 'promo2', 'promo2_since_week',\n",
       "       'promo2_since_year', 'promo_interval'],\n",
       "      dtype='object')"
      ]
     },
     "execution_count": 64,
     "metadata": {},
     "output_type": "execute_result"
    }
   ],
   "source": [
    "cols_old_names = df1.columns\n",
    "\n",
    "#Create a function using the inflection library with undersocore method to puth _ between the name of the columns\n",
    "snakecase = lambda x: inflection.underscore(x)\n",
    "\n",
    "#Create a list with new columns name\n",
    "cols_new_name = list(map(snakecase, cols_old_names))\n",
    "\n",
    "#replace the old to new columns names\n",
    "df1.columns = cols_new_name\n",
    "\n",
    "#Show the new names\n",
    "df1.columns"
   ]
  },
  {
   "cell_type": "markdown",
   "id": "1e9cb580",
   "metadata": {},
   "source": [
    "#### 3.1.2 Data Dimensions"
   ]
  },
  {
   "cell_type": "code",
   "execution_count": 65,
   "id": "a5e563b7",
   "metadata": {
    "ExecuteTime": {
     "end_time": "2023-04-01T12:09:14.585104Z",
     "start_time": "2023-04-01T12:09:14.567101Z"
    }
   },
   "outputs": [
    {
     "name": "stdout",
     "output_type": "stream",
     "text": [
      "Number of Rows: 1017209\n",
      "Number of Columns: 18\n"
     ]
    }
   ],
   "source": [
    "#Total rows and columns\n",
    "print('Number of Rows: {}'.format(df1.shape[0]))\n",
    "print('Number of Columns: {}'.format(df1.shape[1]))"
   ]
  },
  {
   "cell_type": "markdown",
   "id": "396ed2d9",
   "metadata": {},
   "source": [
    "#### 3.1.3 Data Types"
   ]
  },
  {
   "cell_type": "code",
   "execution_count": 68,
   "id": "427e4b23",
   "metadata": {
    "ExecuteTime": {
     "end_time": "2023-04-01T12:09:20.100430Z",
     "start_time": "2023-04-01T12:09:20.080440Z"
    }
   },
   "outputs": [
    {
     "data": {
      "text/plain": [
       "store                                    int64\n",
       "day_of_week                              int64\n",
       "date                            datetime64[ns]\n",
       "sales                                    int64\n",
       "customers                                int64\n",
       "open                                     int64\n",
       "promo                                    int64\n",
       "state_holiday                           object\n",
       "school_holiday                           int64\n",
       "store_type                              object\n",
       "assortment                              object\n",
       "competition_distance                   float64\n",
       "competition_open_since_month           float64\n",
       "competition_open_since_year            float64\n",
       "promo2                                   int64\n",
       "promo2_since_week                      float64\n",
       "promo2_since_year                      float64\n",
       "promo_interval                          object\n",
       "dtype: object"
      ]
     },
     "execution_count": 68,
     "metadata": {},
     "output_type": "execute_result"
    }
   ],
   "source": [
    "#Show the data type for each column\n",
    "df1.dtypes"
   ]
  },
  {
   "cell_type": "code",
   "execution_count": 67,
   "id": "52b9e2d0",
   "metadata": {
    "ExecuteTime": {
     "end_time": "2023-04-01T12:09:19.030407Z",
     "start_time": "2023-04-01T12:09:18.931408Z"
    }
   },
   "outputs": [],
   "source": [
    "#Change the date object to datetime type\n",
    "df1['date'] = pd.to_datetime( df1['date'] )"
   ]
  },
  {
   "cell_type": "markdown",
   "id": "627c87a4",
   "metadata": {},
   "source": [
    "#### 3.1.4 Check NA's"
   ]
  },
  {
   "cell_type": "code",
   "execution_count": 88,
   "id": "fc854a5b",
   "metadata": {
    "ExecuteTime": {
     "end_time": "2023-04-01T12:50:54.727550Z",
     "start_time": "2023-04-01T12:50:54.121345Z"
    }
   },
   "outputs": [
    {
     "data": {
      "text/plain": [
       "store                           0\n",
       "day_of_week                     0\n",
       "date                            0\n",
       "sales                           0\n",
       "customers                       0\n",
       "open                            0\n",
       "promo                           0\n",
       "state_holiday                   0\n",
       "school_holiday                  0\n",
       "store_type                      0\n",
       "assortment                      0\n",
       "competition_distance            0\n",
       "competition_open_since_month    0\n",
       "competition_open_since_year     0\n",
       "promo2                          0\n",
       "promo2_since_week               0\n",
       "promo2_since_year               0\n",
       "promo_interval                  0\n",
       "month_map                       0\n",
       "ispromo                         0\n",
       "dtype: int64"
      ]
     },
     "execution_count": 88,
     "metadata": {},
     "output_type": "execute_result"
    }
   ],
   "source": [
    "#Check the NA's total has in each line\n",
    "df1.isna().sum()"
   ]
  },
  {
   "cell_type": "markdown",
   "id": "f39ba5ac",
   "metadata": {},
   "source": [
    "**important** We have three possibilities to management the NA's\n",
    "  1. Discard the row that contain NA's (delete)\n",
    "  2. Use the mean, median, or ML methods.\n",
    "  3. Use the business questions to decide how we can replace."
   ]
  },
  {
   "cell_type": "markdown",
   "id": "52d626c1",
   "metadata": {
    "ExecuteTime": {
     "end_time": "2023-04-01T11:21:47.758349Z",
     "start_time": "2023-04-01T11:21:47.744358Z"
    }
   },
   "source": [
    "##### 3.1.4.1 Fillout NA's"
   ]
  },
  {
   "cell_type": "code",
   "execution_count": 75,
   "id": "d46b130b",
   "metadata": {
    "ExecuteTime": {
     "end_time": "2023-04-01T12:49:26.016983Z",
     "start_time": "2023-04-01T12:48:50.120060Z"
    }
   },
   "outputs": [],
   "source": [
    "#CompetitionDistance - distance in meters to the nearest competitor store\n",
    "#decision: Assuming two hypotheses, or the store doesn't have competition or the competitor store is very far.\n",
    "#action: Fillout the NA's with a big distance to assuming these stores doesn't have a competition.\n",
    "# df1['competition_distance'].max() = 75860.0\n",
    "\n",
    "df1['competition_distance'] = df1['competition_distance'].apply( lambda x: 200000.0 if math.isnan( x ) else x )\n",
    "\n",
    "\n",
    "#CompetitionOpenSince[Month/Year] - gives the approximate year and month of the time the nearest competitor was opened\n",
    "#decision: Assuming these hypotheses, or the store doesn't open yet or the store opened before our store or we didn't record when the competitor store was open.\n",
    "#action: Fillout the NA's with the same sale date of the same row.\n",
    "\n",
    "df1['competition_open_since_month'] = df1.apply(lambda x: x['date'].month if math.isnan( x['competition_open_since_month'] ) else x['competition_open_since_month'], axis=1)\n",
    "df1['competition_open_since_year']  = df1.apply(lambda x: x['date'].year if math.isnan( x['competition_open_since_year'] ) else x['competition_open_since_year'], axis=1)\n",
    "\n",
    "\n",
    "#Promo2 - Promo2 is a continuing and consecutive promotion for some stores: 0 = store is not participating, 1 = store is participating\n",
    "#Promo2Since[Year/Week] - describes the year and calendar week when the store started participating in Promo2\n",
    "#decision: Assuming the store doesn't want to participate of the promo2 .\n",
    "#action: Fillout the NA's with the same sale date of the same row.\n",
    "\n",
    "df1['promo2_since_week'] = df1.apply(lambda x: x['date'].week if math.isnan( x['promo2_since_week'] ) else x['promo2_since_week'], axis=1)\n",
    "df1['promo2_since_year'] = df1.apply(lambda x: x['date'].year if math.isnan( x['promo2_since_year'] ) else x['promo2_since_year'], axis=1)\n",
    "\n",
    "#PromoInterval - describes the consecutive intervals Promo2 is started, naming the months the promotion is started anew. E.g. \"Feb,May,Aug,Nov\" means each round starts in February, May, August, November of any given year for that store#decision: Assuming the store doesn't want to participate of the promo2 .\n",
    "#decision: Getting the month of the date sale and replace number to prefix month later fillna to 0 and cheching if this month is into the promo_interval, if yes set 1 else 0\n",
    "#action: Fillout the NA's with the same sale date of the same row.\n",
    "\n",
    "#Create the month_map\n",
    "month_map = {1: 'Jan', 2: 'Feb', 3: 'Mar', 4: 'Apr', 5: 'May', 6: 'Jun', 7: 'Jul', 8: 'Aug', 9: 'Sep', 10: 'Oct', 11: 'Nov', 12: 'Dec'}\n",
    "\n",
    "#Fillna = 0, implace is not show the message/question\n",
    "df1['promo_interval'].fillna(0, inplace=True)\n",
    "\n",
    "#Create a column to see the months in \"prefix\" name\n",
    "#get the DATE columns, transform in DATE(dt), get the month (month), and map(map) all data using the variable month_map\n",
    "df1['month_map'] = df1['date'].dt.month.map( month_map )\n",
    "\n",
    "#First condition: Split the promo_terval in comma, and check if df1['month_map'] is in on df1['promo_interval'], if yes 1 else 0\n",
    "# 1 = The store is participating of the promo\n",
    "# 0 = The store is not participating of the promo\n",
    "\n",
    "#Second condition: If df1['promo_interval'] = 0 means that the store wasn't participating of the consecutive promotion\n",
    "df1['ispromo'] = df1[['promo_interval','month_map']].apply (lambda x: 0 if x['promo_interval'] == 0 else 1 if x['month_map'] in x['promo_interval'].split( ',' ) else 0, axis=1)\n",
    " "
   ]
  },
  {
   "cell_type": "code",
   "execution_count": 87,
   "id": "01fd30b5",
   "metadata": {
    "ExecuteTime": {
     "end_time": "2023-04-01T12:50:21.659466Z",
     "start_time": "2023-04-01T12:50:21.619653Z"
    }
   },
   "outputs": [
    {
     "data": {
      "text/html": [
       "<div>\n",
       "<style scoped>\n",
       "    .dataframe tbody tr th:only-of-type {\n",
       "        vertical-align: middle;\n",
       "    }\n",
       "\n",
       "    .dataframe tbody tr th {\n",
       "        vertical-align: top;\n",
       "    }\n",
       "\n",
       "    .dataframe thead th {\n",
       "        text-align: right;\n",
       "    }\n",
       "</style>\n",
       "<table border=\"1\" class=\"dataframe\">\n",
       "  <thead>\n",
       "    <tr style=\"text-align: right;\">\n",
       "      <th></th>\n",
       "      <th>650522</th>\n",
       "      <th>603524</th>\n",
       "      <th>522705</th>\n",
       "      <th>270964</th>\n",
       "      <th>721300</th>\n",
       "    </tr>\n",
       "  </thead>\n",
       "  <tbody>\n",
       "    <tr>\n",
       "      <th>store</th>\n",
       "      <td>148</td>\n",
       "      <td>1095</td>\n",
       "      <td>556</td>\n",
       "      <td>1101</td>\n",
       "      <td>681</td>\n",
       "    </tr>\n",
       "    <tr>\n",
       "      <th>day_of_week</th>\n",
       "      <td>1</td>\n",
       "      <td>2</td>\n",
       "      <td>4</td>\n",
       "      <td>2</td>\n",
       "      <td>1</td>\n",
       "    </tr>\n",
       "    <tr>\n",
       "      <th>date</th>\n",
       "      <td>2013-11-25 00:00:00</td>\n",
       "      <td>2014-01-07 00:00:00</td>\n",
       "      <td>2014-03-20 00:00:00</td>\n",
       "      <td>2014-11-25 00:00:00</td>\n",
       "      <td>2013-09-23 00:00:00</td>\n",
       "    </tr>\n",
       "    <tr>\n",
       "      <th>sales</th>\n",
       "      <td>8891</td>\n",
       "      <td>6526</td>\n",
       "      <td>7032</td>\n",
       "      <td>12770</td>\n",
       "      <td>4599</td>\n",
       "    </tr>\n",
       "    <tr>\n",
       "      <th>customers</th>\n",
       "      <td>870</td>\n",
       "      <td>844</td>\n",
       "      <td>866</td>\n",
       "      <td>1130</td>\n",
       "      <td>631</td>\n",
       "    </tr>\n",
       "    <tr>\n",
       "      <th>open</th>\n",
       "      <td>1</td>\n",
       "      <td>1</td>\n",
       "      <td>1</td>\n",
       "      <td>1</td>\n",
       "      <td>1</td>\n",
       "    </tr>\n",
       "    <tr>\n",
       "      <th>promo</th>\n",
       "      <td>0</td>\n",
       "      <td>1</td>\n",
       "      <td>1</td>\n",
       "      <td>1</td>\n",
       "      <td>1</td>\n",
       "    </tr>\n",
       "    <tr>\n",
       "      <th>state_holiday</th>\n",
       "      <td>0</td>\n",
       "      <td>0</td>\n",
       "      <td>0</td>\n",
       "      <td>0</td>\n",
       "      <td>0</td>\n",
       "    </tr>\n",
       "    <tr>\n",
       "      <th>school_holiday</th>\n",
       "      <td>0</td>\n",
       "      <td>0</td>\n",
       "      <td>0</td>\n",
       "      <td>0</td>\n",
       "      <td>0</td>\n",
       "    </tr>\n",
       "    <tr>\n",
       "      <th>store_type</th>\n",
       "      <td>a</td>\n",
       "      <td>a</td>\n",
       "      <td>d</td>\n",
       "      <td>d</td>\n",
       "      <td>a</td>\n",
       "    </tr>\n",
       "    <tr>\n",
       "      <th>assortment</th>\n",
       "      <td>a</td>\n",
       "      <td>a</td>\n",
       "      <td>c</td>\n",
       "      <td>c</td>\n",
       "      <td>c</td>\n",
       "    </tr>\n",
       "    <tr>\n",
       "      <th>competition_distance</th>\n",
       "      <td>2090.0</td>\n",
       "      <td>690.0</td>\n",
       "      <td>1140.0</td>\n",
       "      <td>4060.0</td>\n",
       "      <td>620.0</td>\n",
       "    </tr>\n",
       "    <tr>\n",
       "      <th>competition_open_since_month</th>\n",
       "      <td>12.0</td>\n",
       "      <td>6.0</td>\n",
       "      <td>11.0</td>\n",
       "      <td>9.0</td>\n",
       "      <td>9.0</td>\n",
       "    </tr>\n",
       "    <tr>\n",
       "      <th>competition_open_since_year</th>\n",
       "      <td>2008.0</td>\n",
       "      <td>2007.0</td>\n",
       "      <td>2014.0</td>\n",
       "      <td>2012.0</td>\n",
       "      <td>2013.0</td>\n",
       "    </tr>\n",
       "    <tr>\n",
       "      <th>promo2</th>\n",
       "      <td>0</td>\n",
       "      <td>1</td>\n",
       "      <td>0</td>\n",
       "      <td>0</td>\n",
       "      <td>1</td>\n",
       "    </tr>\n",
       "    <tr>\n",
       "      <th>promo2_since_week</th>\n",
       "      <td>48.0</td>\n",
       "      <td>14.0</td>\n",
       "      <td>12.0</td>\n",
       "      <td>48.0</td>\n",
       "      <td>1.0</td>\n",
       "    </tr>\n",
       "    <tr>\n",
       "      <th>promo2_since_year</th>\n",
       "      <td>2013.0</td>\n",
       "      <td>2011.0</td>\n",
       "      <td>2014.0</td>\n",
       "      <td>2014.0</td>\n",
       "      <td>2014.0</td>\n",
       "    </tr>\n",
       "    <tr>\n",
       "      <th>promo_interval</th>\n",
       "      <td>0</td>\n",
       "      <td>Jan,Apr,Jul,Oct</td>\n",
       "      <td>0</td>\n",
       "      <td>0</td>\n",
       "      <td>Mar,Jun,Sept,Dec</td>\n",
       "    </tr>\n",
       "    <tr>\n",
       "      <th>month_map</th>\n",
       "      <td>Nov</td>\n",
       "      <td>Jan</td>\n",
       "      <td>Mar</td>\n",
       "      <td>Nov</td>\n",
       "      <td>Sep</td>\n",
       "    </tr>\n",
       "    <tr>\n",
       "      <th>ispromo</th>\n",
       "      <td>0</td>\n",
       "      <td>1</td>\n",
       "      <td>0</td>\n",
       "      <td>0</td>\n",
       "      <td>0</td>\n",
       "    </tr>\n",
       "  </tbody>\n",
       "</table>\n",
       "</div>"
      ],
      "text/plain": [
       "                                           650522               603524  \\\n",
       "store                                         148                 1095   \n",
       "day_of_week                                     1                    2   \n",
       "date                          2013-11-25 00:00:00  2014-01-07 00:00:00   \n",
       "sales                                        8891                 6526   \n",
       "customers                                     870                  844   \n",
       "open                                            1                    1   \n",
       "promo                                           0                    1   \n",
       "state_holiday                                   0                    0   \n",
       "school_holiday                                  0                    0   \n",
       "store_type                                      a                    a   \n",
       "assortment                                      a                    a   \n",
       "competition_distance                       2090.0                690.0   \n",
       "competition_open_since_month                 12.0                  6.0   \n",
       "competition_open_since_year                2008.0               2007.0   \n",
       "promo2                                          0                    1   \n",
       "promo2_since_week                            48.0                 14.0   \n",
       "promo2_since_year                          2013.0               2011.0   \n",
       "promo_interval                                  0      Jan,Apr,Jul,Oct   \n",
       "month_map                                     Nov                  Jan   \n",
       "ispromo                                         0                    1   \n",
       "\n",
       "                                           522705               270964  \\\n",
       "store                                         556                 1101   \n",
       "day_of_week                                     4                    2   \n",
       "date                          2014-03-20 00:00:00  2014-11-25 00:00:00   \n",
       "sales                                        7032                12770   \n",
       "customers                                     866                 1130   \n",
       "open                                            1                    1   \n",
       "promo                                           1                    1   \n",
       "state_holiday                                   0                    0   \n",
       "school_holiday                                  0                    0   \n",
       "store_type                                      d                    d   \n",
       "assortment                                      c                    c   \n",
       "competition_distance                       1140.0               4060.0   \n",
       "competition_open_since_month                 11.0                  9.0   \n",
       "competition_open_since_year                2014.0               2012.0   \n",
       "promo2                                          0                    0   \n",
       "promo2_since_week                            12.0                 48.0   \n",
       "promo2_since_year                          2014.0               2014.0   \n",
       "promo_interval                                  0                    0   \n",
       "month_map                                     Mar                  Nov   \n",
       "ispromo                                         0                    0   \n",
       "\n",
       "                                           721300  \n",
       "store                                         681  \n",
       "day_of_week                                     1  \n",
       "date                          2013-09-23 00:00:00  \n",
       "sales                                        4599  \n",
       "customers                                     631  \n",
       "open                                            1  \n",
       "promo                                           1  \n",
       "state_holiday                                   0  \n",
       "school_holiday                                  0  \n",
       "store_type                                      a  \n",
       "assortment                                      c  \n",
       "competition_distance                        620.0  \n",
       "competition_open_since_month                  9.0  \n",
       "competition_open_since_year                2013.0  \n",
       "promo2                                          1  \n",
       "promo2_since_week                             1.0  \n",
       "promo2_since_year                          2014.0  \n",
       "promo_interval                   Mar,Jun,Sept,Dec  \n",
       "month_map                                     Sep  \n",
       "ispromo                                         0  "
      ]
     },
     "execution_count": 87,
     "metadata": {},
     "output_type": "execute_result"
    }
   ],
   "source": [
    "df1.sample(5).T"
   ]
  },
  {
   "cell_type": "code",
   "execution_count": null,
   "id": "0a0f226e",
   "metadata": {},
   "outputs": [],
   "source": []
  },
  {
   "cell_type": "code",
   "execution_count": null,
   "id": "867fff4d",
   "metadata": {},
   "outputs": [],
   "source": []
  },
  {
   "cell_type": "code",
   "execution_count": null,
   "id": "ea64662e",
   "metadata": {},
   "outputs": [],
   "source": []
  },
  {
   "cell_type": "code",
   "execution_count": null,
   "id": "45ef2777",
   "metadata": {},
   "outputs": [],
   "source": []
  },
  {
   "cell_type": "code",
   "execution_count": null,
   "id": "ca83b0ed",
   "metadata": {},
   "outputs": [],
   "source": []
  },
  {
   "cell_type": "code",
   "execution_count": null,
   "id": "62ca86ef",
   "metadata": {},
   "outputs": [],
   "source": []
  },
  {
   "cell_type": "code",
   "execution_count": null,
   "id": "9d8890c1",
   "metadata": {},
   "outputs": [],
   "source": []
  },
  {
   "cell_type": "code",
   "execution_count": null,
   "id": "5d3ad91d",
   "metadata": {},
   "outputs": [],
   "source": []
  },
  {
   "cell_type": "code",
   "execution_count": null,
   "id": "c4d47d5e",
   "metadata": {},
   "outputs": [],
   "source": []
  },
  {
   "cell_type": "code",
   "execution_count": null,
   "id": "e79202ff",
   "metadata": {},
   "outputs": [],
   "source": []
  },
  {
   "cell_type": "code",
   "execution_count": null,
   "id": "80ec594e",
   "metadata": {},
   "outputs": [],
   "source": []
  },
  {
   "cell_type": "code",
   "execution_count": null,
   "id": "2bc8fea9",
   "metadata": {},
   "outputs": [],
   "source": []
  },
  {
   "cell_type": "code",
   "execution_count": null,
   "id": "7505ffd4",
   "metadata": {},
   "outputs": [],
   "source": []
  },
  {
   "cell_type": "code",
   "execution_count": null,
   "id": "d0e1137e",
   "metadata": {},
   "outputs": [],
   "source": []
  },
  {
   "cell_type": "code",
   "execution_count": null,
   "id": "ed479c13",
   "metadata": {},
   "outputs": [],
   "source": []
  },
  {
   "cell_type": "code",
   "execution_count": null,
   "id": "386247eb",
   "metadata": {},
   "outputs": [],
   "source": []
  },
  {
   "cell_type": "code",
   "execution_count": null,
   "id": "db871255",
   "metadata": {},
   "outputs": [],
   "source": []
  },
  {
   "cell_type": "code",
   "execution_count": null,
   "id": "d8bebab2",
   "metadata": {},
   "outputs": [],
   "source": []
  },
  {
   "cell_type": "code",
   "execution_count": null,
   "id": "534d51a2",
   "metadata": {},
   "outputs": [],
   "source": []
  },
  {
   "cell_type": "code",
   "execution_count": null,
   "id": "2056bcfc",
   "metadata": {},
   "outputs": [],
   "source": []
  },
  {
   "cell_type": "code",
   "execution_count": null,
   "id": "6713821d",
   "metadata": {},
   "outputs": [],
   "source": []
  },
  {
   "cell_type": "code",
   "execution_count": null,
   "id": "69f7fc27",
   "metadata": {},
   "outputs": [],
   "source": []
  },
  {
   "cell_type": "code",
   "execution_count": null,
   "id": "597564a3",
   "metadata": {},
   "outputs": [],
   "source": []
  },
  {
   "cell_type": "code",
   "execution_count": null,
   "id": "b8aeccd8",
   "metadata": {},
   "outputs": [],
   "source": []
  },
  {
   "cell_type": "code",
   "execution_count": null,
   "id": "9140c8b2",
   "metadata": {},
   "outputs": [],
   "source": []
  },
  {
   "cell_type": "code",
   "execution_count": null,
   "id": "582acc37",
   "metadata": {},
   "outputs": [],
   "source": []
  },
  {
   "cell_type": "code",
   "execution_count": null,
   "id": "7ee46ba5",
   "metadata": {},
   "outputs": [],
   "source": []
  },
  {
   "cell_type": "code",
   "execution_count": null,
   "id": "177412f7",
   "metadata": {},
   "outputs": [],
   "source": []
  },
  {
   "cell_type": "code",
   "execution_count": null,
   "id": "b08bee6d",
   "metadata": {},
   "outputs": [],
   "source": []
  },
  {
   "cell_type": "code",
   "execution_count": null,
   "id": "3902a03a",
   "metadata": {},
   "outputs": [],
   "source": []
  },
  {
   "cell_type": "code",
   "execution_count": null,
   "id": "17c258d7",
   "metadata": {},
   "outputs": [],
   "source": []
  },
  {
   "cell_type": "code",
   "execution_count": null,
   "id": "94d682a3",
   "metadata": {},
   "outputs": [],
   "source": []
  },
  {
   "cell_type": "code",
   "execution_count": null,
   "id": "1573bf57",
   "metadata": {},
   "outputs": [],
   "source": []
  },
  {
   "cell_type": "code",
   "execution_count": null,
   "id": "e5300a48",
   "metadata": {},
   "outputs": [],
   "source": []
  },
  {
   "cell_type": "code",
   "execution_count": null,
   "id": "3ef2f5e7",
   "metadata": {},
   "outputs": [],
   "source": []
  },
  {
   "cell_type": "code",
   "execution_count": null,
   "id": "87a3c557",
   "metadata": {},
   "outputs": [],
   "source": []
  },
  {
   "cell_type": "code",
   "execution_count": null,
   "id": "aed32dc8",
   "metadata": {},
   "outputs": [],
   "source": []
  },
  {
   "cell_type": "code",
   "execution_count": null,
   "id": "22c9cdc5",
   "metadata": {},
   "outputs": [],
   "source": []
  },
  {
   "cell_type": "code",
   "execution_count": null,
   "id": "d56e4f30",
   "metadata": {},
   "outputs": [],
   "source": []
  },
  {
   "cell_type": "code",
   "execution_count": null,
   "id": "cb18a0b7",
   "metadata": {},
   "outputs": [],
   "source": []
  },
  {
   "cell_type": "code",
   "execution_count": null,
   "id": "8f79b77a",
   "metadata": {},
   "outputs": [],
   "source": []
  },
  {
   "cell_type": "code",
   "execution_count": null,
   "id": "a60386ef",
   "metadata": {},
   "outputs": [],
   "source": []
  },
  {
   "cell_type": "code",
   "execution_count": null,
   "id": "9e5069b4",
   "metadata": {},
   "outputs": [],
   "source": []
  },
  {
   "cell_type": "code",
   "execution_count": null,
   "id": "6f5b5e9b",
   "metadata": {},
   "outputs": [],
   "source": []
  },
  {
   "cell_type": "code",
   "execution_count": null,
   "id": "95277309",
   "metadata": {},
   "outputs": [],
   "source": []
  }
 ],
 "metadata": {
  "kernelspec": {
   "display_name": "Python 3 (ipykernel)",
   "language": "python",
   "name": "python3"
  },
  "language_info": {
   "codemirror_mode": {
    "name": "ipython",
    "version": 3
   },
   "file_extension": ".py",
   "mimetype": "text/x-python",
   "name": "python",
   "nbconvert_exporter": "python",
   "pygments_lexer": "ipython3",
   "version": "3.8.8"
  },
  "varInspector": {
   "cols": {
    "lenName": 16,
    "lenType": 16,
    "lenVar": 40
   },
   "kernels_config": {
    "python": {
     "delete_cmd_postfix": "",
     "delete_cmd_prefix": "del ",
     "library": "var_list.py",
     "varRefreshCmd": "print(var_dic_list())"
    },
    "r": {
     "delete_cmd_postfix": ") ",
     "delete_cmd_prefix": "rm(",
     "library": "var_list.r",
     "varRefreshCmd": "cat(var_dic_list()) "
    }
   },
   "types_to_exclude": [
    "module",
    "function",
    "builtin_function_or_method",
    "instance",
    "_Feature"
   ],
   "window_display": false
  }
 },
 "nbformat": 4,
 "nbformat_minor": 5
}
